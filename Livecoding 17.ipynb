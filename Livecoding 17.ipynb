{
 "cells": [
  {
   "cell_type": "code",
   "execution_count": 1,
   "metadata": {},
   "outputs": [],
   "source": [
    "# load some data to practice regressions\n",
    "import seaborn as sns\n",
    "import numpy as np\n",
    "diamonds = sns.load_dataset('diamonds')\n",
    "\n",
    "# this alteration is not strictly necessary to practice a regression\n",
    "# but we use this in livecoding\n",
    "diamonds2 = (diamonds.query('carat < 2.5')               # censor/remove outliers\n",
    "            .assign(lprice = np.log(diamonds['price']))  # log transform price\n",
    "            .assign(lcarat = np.log(diamonds['carat']))  # log transform carats\n",
    "            .assign(ideal = diamonds['cut'] == 'Ideal') \n",
    "             \n",
    "             # some regression packages want you to explicitly provide \n",
    "             # a variable for the constant\n",
    "            .assign(const = 1)                           \n",
    "            )  "
   ]
  },
  {
   "cell_type": "code",
   "execution_count": 2,
   "metadata": {},
   "outputs": [
    {
     "name": "stdout",
     "output_type": "stream",
     "text": [
      "                            OLS Regression Results                            \n",
      "==============================================================================\n",
      "Dep. Variable:                 lprice   R-squared:                       0.933\n",
      "Model:                            OLS   Adj. R-squared:                  0.933\n",
      "Method:                 Least Squares   F-statistic:                 7.542e+05\n",
      "Date:                Thu, 26 Mar 2020   Prob (F-statistic):               0.00\n",
      "Time:                        13:42:34   Log-Likelihood:                -4073.2\n",
      "No. Observations:               53797   AIC:                             8150.\n",
      "Df Residuals:                   53795   BIC:                             8168.\n",
      "Df Model:                           1                                         \n",
      "Covariance Type:            nonrobust                                         \n",
      "==============================================================================\n",
      "                 coef    std err          t      P>|t|      [0.025      0.975]\n",
      "------------------------------------------------------------------------------\n",
      "const          8.4525      0.001   6193.432      0.000       8.450       8.455\n",
      "lcarat         1.6819      0.002    868.465      0.000       1.678       1.686\n",
      "==============================================================================\n",
      "Omnibus:                      775.052   Durbin-Watson:                   1.211\n",
      "Prob(Omnibus):                  0.000   Jarque-Bera (JB):             1334.265\n",
      "Skew:                           0.106   Prob(JB):                    1.85e-290\n",
      "Kurtosis:                       3.742   Cond. No.                         2.10\n",
      "==============================================================================\n",
      "\n",
      "Warnings:\n",
      "[1] Standard Errors assume that the covariance matrix of the errors is correctly specified.\n"
     ]
    }
   ],
   "source": [
    "import statsmodels.api as sm  \n",
    "\n",
    "y = diamonds2['lprice']\n",
    "X = diamonds2[['const','lcarat']]\n",
    "\n",
    "model1 = sm.OLS(y,X)                # pick model type and specify model features\n",
    "results1 = model1.fit()             # estimate / fit\n",
    "print(results1.summary())           # view results \n",
    "y_predicted1 = results1.predict()   # get the predicted results\n",
    "residuals1 = results1.resid         # get the residuals\n",
    "#residuals1 = y - y_predicted1      # another way to get the residuals"
   ]
  },
  {
   "cell_type": "markdown",
   "metadata": {},
   "source": [
    "## There has to be a better way"
   ]
  },
  {
   "cell_type": "code",
   "execution_count": 3,
   "metadata": {},
   "outputs": [
    {
     "name": "stdout",
     "output_type": "stream",
     "text": [
      "                            OLS Regression Results                            \n",
      "==============================================================================\n",
      "Dep. Variable:                 lprice   R-squared:                       0.933\n",
      "Model:                            OLS   Adj. R-squared:                  0.933\n",
      "Method:                 Least Squares   F-statistic:                 7.542e+05\n",
      "Date:                Thu, 26 Mar 2020   Prob (F-statistic):               0.00\n",
      "Time:                        13:42:34   Log-Likelihood:                -4073.2\n",
      "No. Observations:               53797   AIC:                             8150.\n",
      "Df Residuals:                   53795   BIC:                             8168.\n",
      "Df Model:                           1                                         \n",
      "Covariance Type:            nonrobust                                         \n",
      "==============================================================================\n",
      "                 coef    std err          t      P>|t|      [0.025      0.975]\n",
      "------------------------------------------------------------------------------\n",
      "Intercept      8.4525      0.001   6193.432      0.000       8.450       8.455\n",
      "lcarat         1.6819      0.002    868.465      0.000       1.678       1.686\n",
      "==============================================================================\n",
      "Omnibus:                      775.052   Durbin-Watson:                   1.211\n",
      "Prob(Omnibus):                  0.000   Jarque-Bera (JB):             1334.265\n",
      "Skew:                           0.106   Prob(JB):                    1.85e-290\n",
      "Kurtosis:                       3.742   Cond. No.                         2.10\n",
      "==============================================================================\n",
      "\n",
      "Warnings:\n",
      "[1] Standard Errors assume that the covariance matrix of the errors is correctly specified.\n"
     ]
    }
   ],
   "source": [
    "from statsmodels.formula.api import ols as sm_ols\n",
    "\n",
    "model2   = sm_ols('lprice ~ lcarat',  # specify model (you don't need to include the constant!)\n",
    "                  data=diamonds2)\n",
    "results2 = model2.fit()               # estimate / fit\n",
    "print(results2.summary())             # view results ... identical to before\n",
    "\n",
    "# the prediction and residual and plotting are the exact same"
   ]
  },
  {
   "cell_type": "markdown",
   "metadata": {},
   "source": [
    "## Visualize Regressions"
   ]
  },
  {
   "cell_type": "code",
   "execution_count": 4,
   "metadata": {},
   "outputs": [
    {
     "data": {
      "image/png": "[encoded data removed]",
      "text/plain": [
       "<Figure size 432x288 with 1 Axes>"
      ]
     },
     "metadata": {
      "needs_background": "light"
     },
     "output_type": "display_data"
    },
    {
     "data": {
      "text/plain": [
       "Text(0.5, 1.0, 'Which is the same fit sns will give')"
      ]
     },
     "execution_count": 4,
     "metadata": {},
     "output_type": "execute_result"
    },
    {
     "data": {
      "image/png": "[encoded data removed]",
      "text/plain": [
       "<Figure size 432x288 with 1 Axes>"
      ]
     },
     "metadata": {
      "needs_background": "light"
     },
     "output_type": "display_data"
    }
   ],
   "source": [
    "#regplot\n",
    "#lmplot\n",
    "\n",
    "import matplotlib.pyplot as plt\n",
    "\n",
    "# let's plot our data with the OLS predicted fit\n",
    "sns.scatterplot(x='lcarat',y='lprice',data=diamonds2.sample(1000)) # sampled just to avoid overplotting\n",
    "sns.lineplot(x=diamonds2['lcarat'],y=y_predicted1,color='red')\n",
    "\n",
    "# compare this to the built-in sns produces\n",
    "plt.show()\n",
    "sns.regplot(x='lcarat',y='lprice',data=diamonds2.sample(1000),\n",
    "            line_kws={'color':'red'}).set_title(\"Which is the same fit sns will give\")"
   ]
  },
  {
   "cell_type": "code",
   "execution_count": 5,
   "metadata": {},
   "outputs": [],
   "source": [
    "diamonds2['lprice_prediction_error'] = results1.resid #the residuals, the prediction errors"
   ]
  },
  {
   "cell_type": "code",
   "execution_count": 6,
   "metadata": {},
   "outputs": [
    {
     "data": {
      "text/plain": [
       "<matplotlib.axes._subplots.AxesSubplot at 0x1a20480f10>"
      ]
     },
     "execution_count": 6,
     "metadata": {},
     "output_type": "execute_result"
    },
    {
     "data": {
      "image/png": "[encoded data removed]",
      "text/plain": [
       "<Figure size 432x288 with 1 Axes>"
      ]
     },
     "metadata": {
      "needs_background": "light"
     },
     "output_type": "display_data"
    }
   ],
   "source": [
    "sns.scatterplot(x='lcarat',y='lprice_prediction_error', data = diamonds2.sample(1000))"
   ]
  },
  {
   "cell_type": "code",
   "execution_count": 7,
   "metadata": {},
   "outputs": [],
   "source": [
    "diamonds2['lprice_predict'] = results2.predict()"
   ]
  },
  {
   "cell_type": "code",
   "execution_count": 8,
   "metadata": {},
   "outputs": [
    {
     "data": {
      "text/html": [
       "<div>\n",
       "<style scoped>\n",
       "    .dataframe tbody tr th:only-of-type {\n",
       "        vertical-align: middle;\n",
       "    }\n",
       "\n",
       "    .dataframe tbody tr th {\n",
       "        vertical-align: top;\n",
       "    }\n",
       "\n",
       "    .dataframe thead th {\n",
       "        text-align: right;\n",
       "    }\n",
       "</style>\n",
       "<table border=\"1\" class=\"dataframe\">\n",
       "  <thead>\n",
       "    <tr style=\"text-align: right;\">\n",
       "      <th></th>\n",
       "      <th>z</th>\n",
       "      <th>lprice</th>\n",
       "      <th>lcarat</th>\n",
       "      <th>const</th>\n",
       "      <th>lprice_prediction_error</th>\n",
       "      <th>lprice_predict</th>\n",
       "    </tr>\n",
       "  </thead>\n",
       "  <tbody>\n",
       "    <tr>\n",
       "      <td>count</td>\n",
       "      <td>53797.000000</td>\n",
       "      <td>53797.000000</td>\n",
       "      <td>53797.000000</td>\n",
       "      <td>53797.0</td>\n",
       "      <td>5.379700e+04</td>\n",
       "      <td>53797.000000</td>\n",
       "    </tr>\n",
       "    <tr>\n",
       "      <td>mean</td>\n",
       "      <td>3.533463</td>\n",
       "      <td>7.781923</td>\n",
       "      <td>-0.398700</td>\n",
       "      <td>1.0</td>\n",
       "      <td>9.949127e-15</td>\n",
       "      <td>7.781923</td>\n",
       "    </tr>\n",
       "    <tr>\n",
       "      <td>std</td>\n",
       "      <td>0.698619</td>\n",
       "      <td>1.011557</td>\n",
       "      <td>0.581060</td>\n",
       "      <td>0.0</td>\n",
       "      <td>2.610050e-01</td>\n",
       "      <td>0.977305</td>\n",
       "    </tr>\n",
       "    <tr>\n",
       "      <td>min</td>\n",
       "      <td>0.000000</td>\n",
       "      <td>5.786897</td>\n",
       "      <td>-1.609438</td>\n",
       "      <td>1.0</td>\n",
       "      <td>-1.361775e+00</td>\n",
       "      <td>5.745541</td>\n",
       "    </tr>\n",
       "    <tr>\n",
       "      <td>25%</td>\n",
       "      <td>2.910000</td>\n",
       "      <td>6.854355</td>\n",
       "      <td>-0.916291</td>\n",
       "      <td>1.0</td>\n",
       "      <td>-1.700728e-01</td>\n",
       "      <td>6.911370</td>\n",
       "    </tr>\n",
       "    <tr>\n",
       "      <td>50%</td>\n",
       "      <td>3.520000</td>\n",
       "      <td>7.781556</td>\n",
       "      <td>-0.356675</td>\n",
       "      <td>1.0</td>\n",
       "      <td>-6.028933e-03</td>\n",
       "      <td>7.852608</td>\n",
       "    </tr>\n",
       "    <tr>\n",
       "      <td>75%</td>\n",
       "      <td>4.030000</td>\n",
       "      <td>8.573952</td>\n",
       "      <td>0.039221</td>\n",
       "      <td>1.0</td>\n",
       "      <td>1.659037e-01</td>\n",
       "      <td>8.518479</td>\n",
       "    </tr>\n",
       "    <tr>\n",
       "      <td>max</td>\n",
       "      <td>31.800000</td>\n",
       "      <td>9.842835</td>\n",
       "      <td>0.912283</td>\n",
       "      <td>1.0</td>\n",
       "      <td>1.341449e+00</td>\n",
       "      <td>9.986913</td>\n",
       "    </tr>\n",
       "  </tbody>\n",
       "</table>\n",
       "</div>"
      ],
      "text/plain": [
       "                  z        lprice        lcarat    const  \\\n",
       "count  53797.000000  53797.000000  53797.000000  53797.0   \n",
       "mean       3.533463      7.781923     -0.398700      1.0   \n",
       "std        0.698619      1.011557      0.581060      0.0   \n",
       "min        0.000000      5.786897     -1.609438      1.0   \n",
       "25%        2.910000      6.854355     -0.916291      1.0   \n",
       "50%        3.520000      7.781556     -0.356675      1.0   \n",
       "75%        4.030000      8.573952      0.039221      1.0   \n",
       "max       31.800000      9.842835      0.912283      1.0   \n",
       "\n",
       "       lprice_prediction_error  lprice_predict  \n",
       "count             5.379700e+04    53797.000000  \n",
       "mean              9.949127e-15        7.781923  \n",
       "std               2.610050e-01        0.977305  \n",
       "min              -1.361775e+00        5.745541  \n",
       "25%              -1.700728e-01        6.911370  \n",
       "50%              -6.028933e-03        7.852608  \n",
       "75%               1.659037e-01        8.518479  \n",
       "max               1.341449e+00        9.986913  "
      ]
     },
     "execution_count": 8,
     "metadata": {},
     "output_type": "execute_result"
    }
   ],
   "source": [
    "diamonds2.iloc[:,-7:].describe() #all of the rows in the last 7 columns\n",
    "#regression errors always average to zero if you include the constant"
   ]
  },
  {
   "cell_type": "code",
   "execution_count": 9,
   "metadata": {},
   "outputs": [
    {
     "data": {
      "text/plain": [
       "<matplotlib.axes._subplots.AxesSubplot at 0x1c21843dd0>"
      ]
     },
     "execution_count": 9,
     "metadata": {},
     "output_type": "execute_result"
    },
    {
     "data": {
      "image/png": "[encoded data removed]",
      "text/plain": [
       "<Figure size 432x288 with 1 Axes>"
      ]
     },
     "metadata": {
      "needs_background": "light"
     },
     "output_type": "display_data"
    }
   ],
   "source": [
    "g = sns.scatterplot(data=diamonds2.sample(500), y='lprice',x='carat')\n",
    "sns.lineplot(data=diamonds2, y='lprice_predict',x='carat',color='red')"
   ]
  },
  {
   "cell_type": "code",
   "execution_count": 10,
   "metadata": {},
   "outputs": [
    {
     "data": {
      "text/plain": [
       "<seaborn.axisgrid.FacetGrid at 0x1a204902d0>"
      ]
     },
     "execution_count": 10,
     "metadata": {},
     "output_type": "execute_result"
    },
    {
     "data": {
      "image/png": "[encoded data removed]",
      "text/plain": [
       "<Figure size 360x360 with 1 Axes>"
      ]
     },
     "metadata": {
      "needs_background": "light"
     },
     "output_type": "display_data"
    }
   ],
   "source": [
    "sns.catplot(data=diamonds2, y='lprice_prediction_error',x='cut',kind='box')"
   ]
  },
  {
   "cell_type": "code",
   "execution_count": 11,
   "metadata": {},
   "outputs": [
    {
     "data": {
      "text/html": [
       "<table class=\"simpletable\">\n",
       "<caption>OLS Regression Results</caption>\n",
       "<tr>\n",
       "  <th>Dep. Variable:</th>         <td>lprice</td>      <th>  R-squared:         </th> <td>   0.934</td> \n",
       "</tr>\n",
       "<tr>\n",
       "  <th>Model:</th>                   <td>OLS</td>       <th>  Adj. R-squared:    </th> <td>   0.934</td> \n",
       "</tr>\n",
       "<tr>\n",
       "  <th>Method:</th>             <td>Least Squares</td>  <th>  F-statistic:       </th> <td>3.789e+05</td>\n",
       "</tr>\n",
       "<tr>\n",
       "  <th>Date:</th>             <td>Thu, 26 Mar 2020</td> <th>  Prob (F-statistic):</th>  <td>  0.00</td>  \n",
       "</tr>\n",
       "<tr>\n",
       "  <th>Time:</th>                 <td>13:42:49</td>     <th>  Log-Likelihood:    </th> <td> -3957.1</td> \n",
       "</tr>\n",
       "<tr>\n",
       "  <th>No. Observations:</th>      <td> 53797</td>      <th>  AIC:               </th> <td>   7920.</td> \n",
       "</tr>\n",
       "<tr>\n",
       "  <th>Df Residuals:</th>          <td> 53794</td>      <th>  BIC:               </th> <td>   7947.</td> \n",
       "</tr>\n",
       "<tr>\n",
       "  <th>Df Model:</th>              <td>     2</td>      <th>                     </th>     <td> </td>    \n",
       "</tr>\n",
       "<tr>\n",
       "  <th>Covariance Type:</th>      <td>nonrobust</td>    <th>                     </th>     <td> </td>    \n",
       "</tr>\n",
       "</table>\n",
       "<table class=\"simpletable\">\n",
       "<tr>\n",
       "      <td></td>         <th>coef</th>     <th>std err</th>      <th>t</th>      <th>P>|t|</th>  <th>[0.025</th>    <th>0.975]</th>  \n",
       "</tr>\n",
       "<tr>\n",
       "  <th>Intercept</th> <td>    7.7340</td> <td>    0.047</td> <td>  164.086</td> <td> 0.000</td> <td>    7.642</td> <td>    7.826</td>\n",
       "</tr>\n",
       "<tr>\n",
       "  <th>lcarat</th>    <td>    1.4719</td> <td>    0.014</td> <td>  105.852</td> <td> 0.000</td> <td>    1.445</td> <td>    1.499</td>\n",
       "</tr>\n",
       "<tr>\n",
       "  <th>x</th>         <td>    0.1109</td> <td>    0.007</td> <td>   15.250</td> <td> 0.000</td> <td>    0.097</td> <td>    0.125</td>\n",
       "</tr>\n",
       "</table>\n",
       "<table class=\"simpletable\">\n",
       "<tr>\n",
       "  <th>Omnibus:</th>       <td>861.522</td> <th>  Durbin-Watson:     </th> <td>   1.239</td>\n",
       "</tr>\n",
       "<tr>\n",
       "  <th>Prob(Omnibus):</th> <td> 0.000</td>  <th>  Jarque-Bera (JB):  </th> <td>1526.077</td>\n",
       "</tr>\n",
       "<tr>\n",
       "  <th>Skew:</th>          <td> 0.114</td>  <th>  Prob(JB):          </th> <td>    0.00</td>\n",
       "</tr>\n",
       "<tr>\n",
       "  <th>Kurtosis:</th>      <td> 3.793</td>  <th>  Cond. No.          </th> <td>    262.</td>\n",
       "</tr>\n",
       "</table><br/><br/>Warnings:<br/>[1] Standard Errors assume that the covariance matrix of the errors is correctly specified."
      ],
      "text/plain": [
       "<class 'statsmodels.iolib.summary.Summary'>\n",
       "\"\"\"\n",
       "                            OLS Regression Results                            \n",
       "==============================================================================\n",
       "Dep. Variable:                 lprice   R-squared:                       0.934\n",
       "Model:                            OLS   Adj. R-squared:                  0.934\n",
       "Method:                 Least Squares   F-statistic:                 3.789e+05\n",
       "Date:                Thu, 26 Mar 2020   Prob (F-statistic):               0.00\n",
       "Time:                        13:42:49   Log-Likelihood:                -3957.1\n",
       "No. Observations:               53797   AIC:                             7920.\n",
       "Df Residuals:                   53794   BIC:                             7947.\n",
       "Df Model:                           2                                         \n",
       "Covariance Type:            nonrobust                                         \n",
       "==============================================================================\n",
       "                 coef    std err          t      P>|t|      [0.025      0.975]\n",
       "------------------------------------------------------------------------------\n",
       "Intercept      7.7340      0.047    164.086      0.000       7.642       7.826\n",
       "lcarat         1.4719      0.014    105.852      0.000       1.445       1.499\n",
       "x              0.1109      0.007     15.250      0.000       0.097       0.125\n",
       "==============================================================================\n",
       "Omnibus:                      861.522   Durbin-Watson:                   1.239\n",
       "Prob(Omnibus):                  0.000   Jarque-Bera (JB):             1526.077\n",
       "Skew:                           0.114   Prob(JB):                         0.00\n",
       "Kurtosis:                       3.793   Cond. No.                         262.\n",
       "==============================================================================\n",
       "\n",
       "Warnings:\n",
       "[1] Standard Errors assume that the covariance matrix of the errors is correctly specified.\n",
       "\"\"\""
      ]
     },
     "execution_count": 11,
     "metadata": {},
     "output_type": "execute_result"
    }
   ],
   "source": [
    "sm_ols('lprice ~ lcarat + x', data=diamonds2).fit().summary()"
   ]
  },
  {
   "cell_type": "code",
   "execution_count": 12,
   "metadata": {},
   "outputs": [
    {
     "data": {
      "text/html": [
       "<table class=\"simpletable\">\n",
       "<caption>OLS Regression Results</caption>\n",
       "<tr>\n",
       "  <th>Dep. Variable:</th>         <td>lprice</td>      <th>  R-squared:         </th> <td>   0.014</td> \n",
       "</tr>\n",
       "<tr>\n",
       "  <th>Model:</th>                   <td>OLS</td>       <th>  Adj. R-squared:    </th> <td>   0.014</td> \n",
       "</tr>\n",
       "<tr>\n",
       "  <th>Method:</th>             <td>Least Squares</td>  <th>  F-statistic:       </th> <td>   747.5</td> \n",
       "</tr>\n",
       "<tr>\n",
       "  <th>Date:</th>             <td>Thu, 26 Mar 2020</td> <th>  Prob (F-statistic):</th> <td>1.88e-163</td>\n",
       "</tr>\n",
       "<tr>\n",
       "  <th>Time:</th>                 <td>13:42:49</td>     <th>  Log-Likelihood:    </th> <td> -76581.</td> \n",
       "</tr>\n",
       "<tr>\n",
       "  <th>No. Observations:</th>      <td> 53797</td>      <th>  AIC:               </th> <td>1.532e+05</td>\n",
       "</tr>\n",
       "<tr>\n",
       "  <th>Df Residuals:</th>          <td> 53795</td>      <th>  BIC:               </th> <td>1.532e+05</td>\n",
       "</tr>\n",
       "<tr>\n",
       "  <th>Df Model:</th>              <td>     1</td>      <th>                     </th>     <td> </td>    \n",
       "</tr>\n",
       "<tr>\n",
       "  <th>Covariance Type:</th>      <td>nonrobust</td>    <th>                     </th>     <td> </td>    \n",
       "</tr>\n",
       "</table>\n",
       "<table class=\"simpletable\">\n",
       "<tr>\n",
       "        <td></td>           <th>coef</th>     <th>std err</th>      <th>t</th>      <th>P>|t|</th>  <th>[0.025</th>    <th>0.975]</th>  \n",
       "</tr>\n",
       "<tr>\n",
       "  <th>Intercept</th>     <td>    7.8786</td> <td>    0.006</td> <td> 1408.874</td> <td> 0.000</td> <td>    7.868</td> <td>    7.890</td>\n",
       "</tr>\n",
       "<tr>\n",
       "  <th>ideal[T.True]</th> <td>   -0.2417</td> <td>    0.009</td> <td>  -27.340</td> <td> 0.000</td> <td>   -0.259</td> <td>   -0.224</td>\n",
       "</tr>\n",
       "</table>\n",
       "<table class=\"simpletable\">\n",
       "<tr>\n",
       "  <th>Omnibus:</th>       <td>14095.666</td> <th>  Durbin-Watson:     </th> <td>   0.042</td>\n",
       "</tr>\n",
       "<tr>\n",
       "  <th>Prob(Omnibus):</th>  <td> 0.000</td>   <th>  Jarque-Bera (JB):  </th> <td>2451.937</td>\n",
       "</tr>\n",
       "<tr>\n",
       "  <th>Skew:</th>           <td> 0.110</td>   <th>  Prob(JB):          </th> <td>    0.00</td>\n",
       "</tr>\n",
       "<tr>\n",
       "  <th>Kurtosis:</th>       <td> 1.977</td>   <th>  Cond. No.          </th> <td>    2.45</td>\n",
       "</tr>\n",
       "</table><br/><br/>Warnings:<br/>[1] Standard Errors assume that the covariance matrix of the errors is correctly specified."
      ],
      "text/plain": [
       "<class 'statsmodels.iolib.summary.Summary'>\n",
       "\"\"\"\n",
       "                            OLS Regression Results                            \n",
       "==============================================================================\n",
       "Dep. Variable:                 lprice   R-squared:                       0.014\n",
       "Model:                            OLS   Adj. R-squared:                  0.014\n",
       "Method:                 Least Squares   F-statistic:                     747.5\n",
       "Date:                Thu, 26 Mar 2020   Prob (F-statistic):          1.88e-163\n",
       "Time:                        13:42:49   Log-Likelihood:                -76581.\n",
       "No. Observations:               53797   AIC:                         1.532e+05\n",
       "Df Residuals:                   53795   BIC:                         1.532e+05\n",
       "Df Model:                           1                                         \n",
       "Covariance Type:            nonrobust                                         \n",
       "=================================================================================\n",
       "                    coef    std err          t      P>|t|      [0.025      0.975]\n",
       "---------------------------------------------------------------------------------\n",
       "Intercept         7.8786      0.006   1408.874      0.000       7.868       7.890\n",
       "ideal[T.True]    -0.2417      0.009    -27.340      0.000      -0.259      -0.224\n",
       "==============================================================================\n",
       "Omnibus:                    14095.666   Durbin-Watson:                   0.042\n",
       "Prob(Omnibus):                  0.000   Jarque-Bera (JB):             2451.937\n",
       "Skew:                           0.110   Prob(JB):                         0.00\n",
       "Kurtosis:                       1.977   Cond. No.                         2.45\n",
       "==============================================================================\n",
       "\n",
       "Warnings:\n",
       "[1] Standard Errors assume that the covariance matrix of the errors is correctly specified.\n",
       "\"\"\""
      ]
     },
     "execution_count": 12,
     "metadata": {},
     "output_type": "execute_result"
    }
   ],
   "source": [
    "sm_ols('lprice ~ ideal', data=diamonds2).fit().summary()"
   ]
  },
  {
   "cell_type": "markdown",
   "metadata": {},
   "source": [
    "If x (the diamonds2 variable 'x') goes up by:\n",
    "    1. 1% how much does price go up?\n",
    "    2. 1 how much does price go up?\n",
    "    3. 1% what % does price go up?\n",
    "    4. 1 what % does price go up?"
   ]
  },
  {
   "cell_type": "code",
   "execution_count": 22,
   "metadata": {},
   "outputs": [
    {
     "ename": "SyntaxError",
     "evalue": "unexpected EOF while parsing (<ipython-input-22-4e2ad6e64e06>, line 3)",
     "output_type": "error",
     "traceback": [
      "\u001b[0;36m  File \u001b[0;32m\"<ipython-input-22-4e2ad6e64e06>\"\u001b[0;36m, line \u001b[0;32m3\u001b[0m\n\u001b[0;31m    sm_ols('price ~ lx', data=diamonds2.assign(lx = np.log(1+diamonds2['x'])).fit().summary()\u001b[0m\n\u001b[0m                                                                                             ^\u001b[0m\n\u001b[0;31mSyntaxError\u001b[0m\u001b[0;31m:\u001b[0m unexpected EOF while parsing\n"
     ]
    }
   ],
   "source": [
    "sm_ols('lprice ~ x', data=diamonds2).fit().summary()\n",
    "sm_ols('price ~ x', data=diamonds2).fit().summary()\n",
    "sm_ols('price ~ lx', data=diamonds2.assign(lx = np.log(1+diamonds2['x'])).fit().summary() ##????"
   ]
  },
  {
   "cell_type": "code",
   "execution_count": 27,
   "metadata": {},
   "outputs": [
    {
     "data": {
      "text/html": [
       "<table class=\"simpletable\">\n",
       "<caption>OLS Regression Results</caption>\n",
       "<tr>\n",
       "  <th>Dep. Variable:</th>         <td>lprice</td>      <th>  R-squared:         </th> <td>   0.936</td> \n",
       "</tr>\n",
       "<tr>\n",
       "  <th>Model:</th>                   <td>OLS</td>       <th>  Adj. R-squared:    </th> <td>   0.936</td> \n",
       "</tr>\n",
       "<tr>\n",
       "  <th>Method:</th>             <td>Least Squares</td>  <th>  F-statistic:       </th> <td>3.914e+05</td>\n",
       "</tr>\n",
       "<tr>\n",
       "  <th>Date:</th>             <td>Thu, 26 Mar 2020</td> <th>  Prob (F-statistic):</th>  <td>  0.00</td>  \n",
       "</tr>\n",
       "<tr>\n",
       "  <th>Time:</th>                 <td>13:56:06</td>     <th>  Log-Likelihood:    </th> <td> -3136.4</td> \n",
       "</tr>\n",
       "<tr>\n",
       "  <th>No. Observations:</th>      <td> 53797</td>      <th>  AIC:               </th> <td>   6279.</td> \n",
       "</tr>\n",
       "<tr>\n",
       "  <th>Df Residuals:</th>          <td> 53794</td>      <th>  BIC:               </th> <td>   6306.</td> \n",
       "</tr>\n",
       "<tr>\n",
       "  <th>Df Model:</th>              <td>     2</td>      <th>                     </th>     <td> </td>    \n",
       "</tr>\n",
       "<tr>\n",
       "  <th>Covariance Type:</th>      <td>nonrobust</td>    <th>                     </th>     <td> </td>    \n",
       "</tr>\n",
       "</table>\n",
       "<table class=\"simpletable\">\n",
       "<tr>\n",
       "        <td></td>           <th>coef</th>     <th>std err</th>      <th>t</th>      <th>P>|t|</th>  <th>[0.025</th>    <th>0.975]</th>  \n",
       "</tr>\n",
       "<tr>\n",
       "  <th>Intercept</th>     <td>    8.4182</td> <td>    0.002</td> <td> 5415.779</td> <td> 0.000</td> <td>    8.415</td> <td>    8.421</td>\n",
       "</tr>\n",
       "<tr>\n",
       "  <th>ideal[T.True]</th> <td>    0.1000</td> <td>    0.002</td> <td>   43.662</td> <td> 0.000</td> <td>    0.096</td> <td>    0.105</td>\n",
       "</tr>\n",
       "<tr>\n",
       "  <th>lcarat</th>        <td>    1.6963</td> <td>    0.002</td> <td>  878.286</td> <td> 0.000</td> <td>    1.692</td> <td>    1.700</td>\n",
       "</tr>\n",
       "</table>\n",
       "<table class=\"simpletable\">\n",
       "<tr>\n",
       "  <th>Omnibus:</th>       <td>794.680</td> <th>  Durbin-Watson:     </th> <td>   1.241</td> \n",
       "</tr>\n",
       "<tr>\n",
       "  <th>Prob(Omnibus):</th> <td> 0.000</td>  <th>  Jarque-Bera (JB):  </th> <td>1394.941</td> \n",
       "</tr>\n",
       "<tr>\n",
       "  <th>Skew:</th>          <td> 0.101</td>  <th>  Prob(JB):          </th> <td>1.24e-303</td>\n",
       "</tr>\n",
       "<tr>\n",
       "  <th>Kurtosis:</th>      <td> 3.763</td>  <th>  Cond. No.          </th> <td>    2.67</td> \n",
       "</tr>\n",
       "</table><br/><br/>Warnings:<br/>[1] Standard Errors assume that the covariance matrix of the errors is correctly specified."
      ],
      "text/plain": [
       "<class 'statsmodels.iolib.summary.Summary'>\n",
       "\"\"\"\n",
       "                            OLS Regression Results                            \n",
       "==============================================================================\n",
       "Dep. Variable:                 lprice   R-squared:                       0.936\n",
       "Model:                            OLS   Adj. R-squared:                  0.936\n",
       "Method:                 Least Squares   F-statistic:                 3.914e+05\n",
       "Date:                Thu, 26 Mar 2020   Prob (F-statistic):               0.00\n",
       "Time:                        13:56:06   Log-Likelihood:                -3136.4\n",
       "No. Observations:               53797   AIC:                             6279.\n",
       "Df Residuals:                   53794   BIC:                             6306.\n",
       "Df Model:                           2                                         \n",
       "Covariance Type:            nonrobust                                         \n",
       "=================================================================================\n",
       "                    coef    std err          t      P>|t|      [0.025      0.975]\n",
       "---------------------------------------------------------------------------------\n",
       "Intercept         8.4182      0.002   5415.779      0.000       8.415       8.421\n",
       "ideal[T.True]     0.1000      0.002     43.662      0.000       0.096       0.105\n",
       "lcarat            1.6963      0.002    878.286      0.000       1.692       1.700\n",
       "==============================================================================\n",
       "Omnibus:                      794.680   Durbin-Watson:                   1.241\n",
       "Prob(Omnibus):                  0.000   Jarque-Bera (JB):             1394.941\n",
       "Skew:                           0.101   Prob(JB):                    1.24e-303\n",
       "Kurtosis:                       3.763   Cond. No.                         2.67\n",
       "==============================================================================\n",
       "\n",
       "Warnings:\n",
       "[1] Standard Errors assume that the covariance matrix of the errors is correctly specified.\n",
       "\"\"\""
      ]
     },
     "execution_count": 27,
     "metadata": {},
     "output_type": "execute_result"
    }
   ],
   "source": [
    "sm_ols('lprice ~ lcarat + ideal', \n",
    "       data=diamonds2).fit().summary()"
   ]
  },
  {
   "cell_type": "code",
   "execution_count": 31,
   "metadata": {},
   "outputs": [
    {
     "data": {
      "text/html": [
       "<table class=\"simpletable\">\n",
       "<caption>OLS Regression Results</caption>\n",
       "<tr>\n",
       "  <th>Dep. Variable:</th>         <td>lprice</td>      <th>  R-squared:         </th> <td>   0.936</td> \n",
       "</tr>\n",
       "<tr>\n",
       "  <th>Model:</th>                   <td>OLS</td>       <th>  Adj. R-squared:    </th> <td>   0.936</td> \n",
       "</tr>\n",
       "<tr>\n",
       "  <th>Method:</th>             <td>Least Squares</td>  <th>  F-statistic:       </th> <td>3.914e+05</td>\n",
       "</tr>\n",
       "<tr>\n",
       "  <th>Date:</th>             <td>Thu, 26 Mar 2020</td> <th>  Prob (F-statistic):</th>  <td>  0.00</td>  \n",
       "</tr>\n",
       "<tr>\n",
       "  <th>Time:</th>                 <td>13:57:02</td>     <th>  Log-Likelihood:    </th> <td> -3136.4</td> \n",
       "</tr>\n",
       "<tr>\n",
       "  <th>No. Observations:</th>      <td> 53797</td>      <th>  AIC:               </th> <td>   6279.</td> \n",
       "</tr>\n",
       "<tr>\n",
       "  <th>Df Residuals:</th>          <td> 53794</td>      <th>  BIC:               </th> <td>   6306.</td> \n",
       "</tr>\n",
       "<tr>\n",
       "  <th>Df Model:</th>              <td>     2</td>      <th>                     </th>     <td> </td>    \n",
       "</tr>\n",
       "<tr>\n",
       "  <th>Covariance Type:</th>      <td>nonrobust</td>    <th>                     </th>     <td> </td>    \n",
       "</tr>\n",
       "</table>\n",
       "<table class=\"simpletable\">\n",
       "<tr>\n",
       "        <td></td>           <th>coef</th>     <th>std err</th>      <th>t</th>      <th>P>|t|</th>  <th>[0.025</th>    <th>0.975]</th>  \n",
       "</tr>\n",
       "<tr>\n",
       "  <th>Intercept</th>     <td>    8.4182</td> <td>    0.002</td> <td> 5415.779</td> <td> 0.000</td> <td>    8.415</td> <td>    8.421</td>\n",
       "</tr>\n",
       "<tr>\n",
       "  <th>ideal[T.True]</th> <td>    0.1000</td> <td>    0.002</td> <td>   43.662</td> <td> 0.000</td> <td>    0.096</td> <td>    0.105</td>\n",
       "</tr>\n",
       "<tr>\n",
       "  <th>lcarat</th>        <td>    1.6963</td> <td>    0.002</td> <td>  878.286</td> <td> 0.000</td> <td>    1.692</td> <td>    1.700</td>\n",
       "</tr>\n",
       "</table>\n",
       "<table class=\"simpletable\">\n",
       "<tr>\n",
       "  <th>Omnibus:</th>       <td>794.680</td> <th>  Durbin-Watson:     </th> <td>   1.241</td> \n",
       "</tr>\n",
       "<tr>\n",
       "  <th>Prob(Omnibus):</th> <td> 0.000</td>  <th>  Jarque-Bera (JB):  </th> <td>1394.941</td> \n",
       "</tr>\n",
       "<tr>\n",
       "  <th>Skew:</th>          <td> 0.101</td>  <th>  Prob(JB):          </th> <td>1.24e-303</td>\n",
       "</tr>\n",
       "<tr>\n",
       "  <th>Kurtosis:</th>      <td> 3.763</td>  <th>  Cond. No.          </th> <td>    2.67</td> \n",
       "</tr>\n",
       "</table><br/><br/>Warnings:<br/>[1] Standard Errors assume that the covariance matrix of the errors is correctly specified."
      ],
      "text/plain": [
       "<class 'statsmodels.iolib.summary.Summary'>\n",
       "\"\"\"\n",
       "                            OLS Regression Results                            \n",
       "==============================================================================\n",
       "Dep. Variable:                 lprice   R-squared:                       0.936\n",
       "Model:                            OLS   Adj. R-squared:                  0.936\n",
       "Method:                 Least Squares   F-statistic:                 3.914e+05\n",
       "Date:                Thu, 26 Mar 2020   Prob (F-statistic):               0.00\n",
       "Time:                        13:57:02   Log-Likelihood:                -3136.4\n",
       "No. Observations:               53797   AIC:                             6279.\n",
       "Df Residuals:                   53794   BIC:                             6306.\n",
       "Df Model:                           2                                         \n",
       "Covariance Type:            nonrobust                                         \n",
       "=================================================================================\n",
       "                    coef    std err          t      P>|t|      [0.025      0.975]\n",
       "---------------------------------------------------------------------------------\n",
       "Intercept         8.4182      0.002   5415.779      0.000       8.415       8.421\n",
       "ideal[T.True]     0.1000      0.002     43.662      0.000       0.096       0.105\n",
       "lcarat            1.6963      0.002    878.286      0.000       1.692       1.700\n",
       "==============================================================================\n",
       "Omnibus:                      794.680   Durbin-Watson:                   1.241\n",
       "Prob(Omnibus):                  0.000   Jarque-Bera (JB):             1394.941\n",
       "Skew:                           0.101   Prob(JB):                    1.24e-303\n",
       "Kurtosis:                       3.763   Cond. No.                         2.67\n",
       "==============================================================================\n",
       "\n",
       "Warnings:\n",
       "[1] Standard Errors assume that the covariance matrix of the errors is correctly specified.\n",
       "\"\"\""
      ]
     },
     "execution_count": 31,
     "metadata": {},
     "output_type": "execute_result"
    }
   ],
   "source": [
    "ideal_reg = sm_ols('lprice ~ lcarat + ideal', data=diamonds2).fit().summary()\n",
    "ideal_reg\n",
    "#diamonds2['y_pred_ideal'] = ideal_reg.predict()"
   ]
  },
  {
   "cell_type": "code",
   "execution_count": 33,
   "metadata": {},
   "outputs": [
    {
     "data": {
      "text/plain": [
       "False    32273\n",
       "True     21524\n",
       "Name: ideal, dtype: int64"
      ]
     },
     "execution_count": 33,
     "metadata": {},
     "output_type": "execute_result"
    }
   ],
   "source": [
    "diamonds2['ideal'].value_counts()"
   ]
  },
  {
   "cell_type": "code",
   "execution_count": 26,
   "metadata": {},
   "outputs": [
    {
     "ename": "AttributeError",
     "evalue": "'Summary' object has no attribute 'predict'",
     "output_type": "error",
     "traceback": [
      "\u001b[0;31m---------------------------------------------------------------------------\u001b[0m",
      "\u001b[0;31mAttributeError\u001b[0m                            Traceback (most recent call last)",
      "\u001b[0;32m<ipython-input-26-7dac5772fe2e>\u001b[0m in \u001b[0;36m<module>\u001b[0;34m\u001b[0m\n\u001b[1;32m      1\u001b[0m cut_reg = sm_ols('lprice ~ lcarat + cut',\n\u001b[1;32m      2\u001b[0m        data=diamonds2).fit().summary()\n\u001b[0;32m----> 3\u001b[0;31m \u001b[0mdiamonds2\u001b[0m\u001b[0;34m[\u001b[0m\u001b[0;34m'cut_predictin'\u001b[0m\u001b[0;34m]\u001b[0m \u001b[0;34m=\u001b[0m \u001b[0mcut_reg\u001b[0m\u001b[0;34m.\u001b[0m\u001b[0mpredict\u001b[0m\u001b[0;34m(\u001b[0m\u001b[0;34m)\u001b[0m\u001b[0;34m\u001b[0m\u001b[0;34m\u001b[0m\u001b[0m\n\u001b[0m",
      "\u001b[0;31mAttributeError\u001b[0m: 'Summary' object has no attribute 'predict'"
     ]
    }
   ],
   "source": [
    "cut_reg = sm_ols('lprice ~ lcarat + cut',\n",
    "       data=diamonds2).fit().summary()\n",
    "diamonds2['cut_predictin'] = cut_reg.predict()"
   ]
  },
  {
   "cell_type": "code",
   "execution_count": null,
   "metadata": {},
   "outputs": [],
   "source": [
    "g = sns.scatterplot(data = diamonds2.sample(50),y='lprice',x = 'lcarat')\n",
    "sns.lineplot(data=diamonds2.query())"
   ]
  },
  {
   "cell_type": "code",
   "execution_count": null,
   "metadata": {},
   "outputs": [],
   "source": [
    "R-Stats = explains the correlation between variables. As close to one as possible is best\n",
    "T-Stats = explains the P-value\n",
    "P-Value = .05 is the most common threshold\n",
    "\n"
   ]
  }
 ],
 "metadata": {
  "kernelspec": {
   "display_name": "Python 3",
   "language": "python",
   "name": "python3"
  },
  "language_info": {
   "codemirror_mode": {
    "name": "ipython",
    "version": 3
   },
   "file_extension": ".py",
   "mimetype": "text/x-python",
   "name": "python",
   "nbconvert_exporter": "python",
   "pygments_lexer": "ipython3",
   "version": "3.7.4"
  }
 },
 "nbformat": 4,
 "nbformat_minor": 2
}
