{
 "cells": [
  {
   "cell_type": "code",
   "execution_count": 1,
   "metadata": {},
   "outputs": [
    {
     "data": {
      "text/plain": [
       "((150, 4), (150,))"
      ]
     },
     "execution_count": 1,
     "metadata": {},
     "output_type": "execute_result"
    }
   ],
   "source": [
    "# dataset loader\n",
    "from sklearn import datasets\n",
    "\n",
    "# model training and evalutation utilities \n",
    "from sklearn.model_selection import train_test_split\n",
    "from sklearn.model_selection import cross_validate\n",
    "from sklearn.metrics import accuracy_score\n",
    "from sklearn.model_selection import StratifiedKFold # this is one way to generate folds\n",
    "from sklearn.model_selection import KFold\n",
    "\n",
    "# models\n",
    "from sklearn.svm import SVC\n",
    "from sklearn.neighbors import KNeighborsClassifier\n",
    "from sklearn.linear_model import LinearRegression\n",
    "from sklearn import linear_model\n",
    "\n",
    "# toy data\n",
    "X, y = datasets.load_iris(return_X_y=True)\n",
    "X.shape, y.shape"
   ]
  },
  {
   "cell_type": "markdown",
   "metadata": {},
   "source": [
    "## What you should learn/be aware of based on this lecture\n",
    "Key `sklearn` functions:\n",
    "\n",
    "* `train_test_split`\n",
    "* `cross_validate`\n",
    "* Fold generators: `KFold` and `StratifiedKFold`\n",
    "* Scoring functions per last lecture and how to pass to `cross_validate`\n",
    "* How to compare different models by looping over them with `cross_validate`, `GridSearchCV`, or `RandomizedSearchCV`\n",
    "\n",
    "Not covered today but you should check out:\n",
    "\n",
    "* `confusion_matrix` and `classification_report` (helpful to evaluate models)"
   ]
  },
  {
   "cell_type": "markdown",
   "metadata": {},
   "source": [
    "## A simple \"split, train, evaluate\" example"
   ]
  },
  {
   "cell_type": "code",
   "execution_count": 2,
   "metadata": {},
   "outputs": [
    {
     "data": {
      "text/plain": [
       "0.9066666666666666"
      ]
     },
     "execution_count": 2,
     "metadata": {},
     "output_type": "execute_result"
    }
   ],
   "source": [
    "# split the data with 50% in each set\n",
    "X1, X2, y1, y2 = train_test_split(X, y, random_state=0,\n",
    "                                  train_size=0.5)\n",
    "\n",
    "# fit the model on one set of data\n",
    "# ignore the model I choose here, its not important what\n",
    "model = KNeighborsClassifier(n_neighbors=1)\n",
    "model.fit(X1, y1) # fit on the \"training data\" X1 and  y1\n",
    "\n",
    "# evaluate the model on the second set of data\n",
    "y2_model = model.predict(X2) # using X2 (out-of-sample data), predict y2\n",
    "accuracy_score(y2, y2_model) # see how close y2 is to prediction (fraction of all pred that are exactly right)"
   ]
  },
  {
   "cell_type": "markdown",
   "metadata": {},
   "source": [
    "## What to do k-fold? It's like repeating the above. In pseudo code, it looks like:\n",
    "\n",
    "1. Break the X and y data into $k$ subsamples\n",
    "2. For each subsample, fit the model, predict OOS, score predictions, and save those\n",
    "\n",
    "Ok?"
   ]
  },
  {
   "cell_type": "markdown",
   "metadata": {},
   "source": [
    "## K-Fold in Python: The explicit way, and the wrapped way\n",
    "\n",
    "Watch me do the explicit way"
   ]
  },
  {
   "cell_type": "code",
   "execution_count": 3,
   "metadata": {},
   "outputs": [
    {
     "data": {
      "text/plain": [
       "0.96"
      ]
     },
     "execution_count": 3,
     "metadata": {},
     "output_type": "execute_result"
    }
   ],
   "source": [
    "# you can take quick notes here, but I'm not going to write this code slow enough to copy\n",
    "# the point here is to illustrate\n",
    "\n",
    "accuracy = []\n",
    "\n",
    "# lop over folds\n",
    "for train_index, test_index in StratifiedKFold(n_splits = 5).split(X, y):\n",
    "    \n",
    "    X_train, X_test = X[train_index], X[test_index]\n",
    "    y_train, y_test = y[train_index], y[test_index]\n",
    "    \n",
    "    model.fit(X_train, y_train)\n",
    "    y_predict = model.predict(X_test)\n",
    "    accuracy.append(accuracy_score(y_test, y_predict))\n",
    "    \n",
    "accuracy\n",
    "import numpy as np\n",
    "np.mean(accuracy)"
   ]
  },
  {
   "cell_type": "markdown",
   "metadata": {},
   "source": [
    "Now try the wrapper below! We are going to see how to use that function to:\n",
    "\n",
    "* try multiple models\n",
    "* try different sets of X variables\n",
    "* try different ways to specific folds"
   ]
  },
  {
   "cell_type": "code",
   "execution_count": 4,
   "metadata": {},
   "outputs": [
    {
     "name": "stderr",
     "output_type": "stream",
     "text": [
      "/Users/mikestragapede/opt/anaconda3/lib/python3.7/site-packages/sklearn/model_selection/_split.py:1978: FutureWarning: The default value of cv will change from 3 to 5 in version 0.22. Specify it explicitly to silence this warning.\n",
      "  warnings.warn(CV_WARNING, FutureWarning)\n"
     ]
    },
    {
     "data": {
      "text/plain": [
       "{'fit_time': array([0.00059628, 0.00059867, 0.00039506]),\n",
       " 'score_time': array([0.00462389, 0.00569701, 0.00164199]),\n",
       " 'test_score': array([0.98039216, 0.92156863, 1.        ])}"
      ]
     },
     "execution_count": 4,
     "metadata": {},
     "output_type": "execute_result"
    }
   ],
   "source": [
    "# try the function here\n",
    "\n",
    "cross_validate(model, X, y)\n",
    "\n",
    "# exactly as what we did manually"
   ]
  },
  {
   "cell_type": "code",
   "execution_count": 5,
   "metadata": {},
   "outputs": [
    {
     "name": "stderr",
     "output_type": "stream",
     "text": [
      "/Users/mikestragapede/opt/anaconda3/lib/python3.7/site-packages/sklearn/model_selection/_split.py:1978: FutureWarning: The default value of cv will change from 3 to 5 in version 0.22. Specify it explicitly to silence this warning.\n",
      "  warnings.warn(CV_WARNING, FutureWarning)\n"
     ]
    },
    {
     "data": {
      "text/plain": [
       "{'fit_time': array([0.0005579 , 0.00059104, 0.00046206]),\n",
       " 'score_time': array([0.01174307, 0.00855613, 0.00960994]),\n",
       " 'test_accuracy': array([0.98039216, 0.92156863, 1.        ]),\n",
       " 'test_precision_macro': array([0.98148148, 0.9251462 , 1.        ]),\n",
       " 'test_r2': array([0.97058824, 0.88235294, 1.        ])}"
      ]
     },
     "execution_count": 5,
     "metadata": {},
     "output_type": "execute_result"
    }
   ],
   "source": [
    "# try here with diff score\n",
    "\n",
    "cross_validate(model, X, y, scoring = ['accuracy', 'r2', 'precision_macro'])"
   ]
  },
  {
   "cell_type": "markdown",
   "metadata": {},
   "source": [
    "All the metrics it can compute out of the box are here: https://scikit-learn.org/stable/modules/model_evaluation.html\n",
    "\n",
    "Notice that many of these were discussed in our last lecture!\n",
    "\n",
    "__*Warning/Note*__: the metric names on that link and what you put in the scoring dictionary don't seem to match up."
   ]
  },
  {
   "cell_type": "markdown",
   "metadata": {},
   "source": [
    "## question:\n",
    "\n",
    "Using 5 folds, what is the average (across the folders) out-of-sample (training) F1 (metric)?"
   ]
  },
  {
   "cell_type": "code",
   "execution_count": 6,
   "metadata": {},
   "outputs": [
    {
     "name": "stderr",
     "output_type": "stream",
     "text": [
      "/Users/mikestragapede/opt/anaconda3/lib/python3.7/site-packages/sklearn/model_selection/_split.py:1978: FutureWarning: The default value of cv will change from 3 to 5 in version 0.22. Specify it explicitly to silence this warning.\n",
      "  warnings.warn(CV_WARNING, FutureWarning)\n"
     ]
    },
    {
     "data": {
      "text/plain": [
       "0.9672238255571589"
      ]
     },
     "execution_count": 6,
     "metadata": {},
     "output_type": "execute_result"
    }
   ],
   "source": [
    "# answer here\n",
    "\n",
    "cross_validate(model, X, y, scoring = 'f1_macro')['test_score'].mean()"
   ]
  },
  {
   "cell_type": "markdown",
   "metadata": {},
   "source": [
    "## Exploring the `cross_validate` parameters"
   ]
  },
  {
   "cell_type": "markdown",
   "metadata": {},
   "source": [
    "### The model parameter"
   ]
  },
  {
   "cell_type": "code",
   "execution_count": 7,
   "metadata": {},
   "outputs": [
    {
     "name": "stderr",
     "output_type": "stream",
     "text": [
      "/Users/mikestragapede/opt/anaconda3/lib/python3.7/site-packages/sklearn/model_selection/_split.py:1978: FutureWarning: The default value of cv will change from 3 to 5 in version 0.22. Specify it explicitly to silence this warning.\n",
      "  warnings.warn(CV_WARNING, FutureWarning)\n",
      "/Users/mikestragapede/opt/anaconda3/lib/python3.7/site-packages/sklearn/model_selection/_split.py:1978: FutureWarning: The default value of cv will change from 3 to 5 in version 0.22. Specify it explicitly to silence this warning.\n",
      "  warnings.warn(CV_WARNING, FutureWarning)\n",
      "/Users/mikestragapede/opt/anaconda3/lib/python3.7/site-packages/sklearn/svm/base.py:193: FutureWarning: The default value of gamma will change from 'auto' to 'scale' in version 0.22 to account better for unscaled features. Set gamma explicitly to 'auto' or 'scale' to avoid this warning.\n",
      "  \"avoid this warning.\", FutureWarning)\n",
      "/Users/mikestragapede/opt/anaconda3/lib/python3.7/site-packages/sklearn/svm/base.py:193: FutureWarning: The default value of gamma will change from 'auto' to 'scale' in version 0.22 to account better for unscaled features. Set gamma explicitly to 'auto' or 'scale' to avoid this warning.\n",
      "  \"avoid this warning.\", FutureWarning)\n",
      "/Users/mikestragapede/opt/anaconda3/lib/python3.7/site-packages/sklearn/svm/base.py:193: FutureWarning: The default value of gamma will change from 'auto' to 'scale' in version 0.22 to account better for unscaled features. Set gamma explicitly to 'auto' or 'scale' to avoid this warning.\n",
      "  \"avoid this warning.\", FutureWarning)\n"
     ]
    },
    {
     "data": {
      "text/plain": [
       "{'fit_time': array([0.00275087, 0.00096822, 0.00188112]),\n",
       " 'score_time': array([0.00068402, 0.00105715, 0.000736  ]),\n",
       " 'test_score': array([0.98037518, 0.96064815, 1.        ])}"
      ]
     },
     "execution_count": 7,
     "metadata": {},
     "output_type": "execute_result"
    }
   ],
   "source": [
    "# change the model\n",
    "\n",
    "# by changing the model paramter, you can adjust the type of model and the model's parameters\n",
    "cross_validate(SVC(gamma='auto'), X, y, scoring = 'f1_macro')\n",
    "cross_validate(SVC(C = 5), X, y, scoring = 'f1_macro')"
   ]
  },
  {
   "cell_type": "code",
   "execution_count": 8,
   "metadata": {},
   "outputs": [
    {
     "name": "stderr",
     "output_type": "stream",
     "text": [
      "/Users/mikestragapede/opt/anaconda3/lib/python3.7/site-packages/sklearn/model_selection/_split.py:1978: FutureWarning: The default value of cv will change from 3 to 5 in version 0.22. Specify it explicitly to silence this warning.\n",
      "  warnings.warn(CV_WARNING, FutureWarning)\n"
     ]
    },
    {
     "data": {
      "text/plain": [
       "0.0"
      ]
     },
     "execution_count": 8,
     "metadata": {},
     "output_type": "execute_result"
    }
   ],
   "source": [
    "# change the model\n",
    "\n",
    "# by changing the model paramter, you can adjust the type of model and the model's parameters\n",
    "cross_validate(LinearRegression(), X, y, scoring = 'r2')['test_score'].mean()"
   ]
  },
  {
   "cell_type": "markdown",
   "metadata": {},
   "source": [
    "### question:"
   ]
  },
  {
   "cell_type": "code",
   "execution_count": 9,
   "metadata": {},
   "outputs": [],
   "source": [
    "# answer here"
   ]
  },
  {
   "cell_type": "markdown",
   "metadata": {},
   "source": [
    "`linear_model` submodule contains lots of useful alternate options"
   ]
  },
  {
   "cell_type": "code",
   "execution_count": 10,
   "metadata": {},
   "outputs": [
    {
     "data": {
      "text/plain": [
       "LogisticRegressionCV(Cs=10, class_weight=None, cv='warn', dual=False,\n",
       "                     fit_intercept=True, intercept_scaling=1.0, l1_ratios=None,\n",
       "                     max_iter=100, multi_class='warn', n_jobs=None,\n",
       "                     penalty='l2', random_state=None, refit=True, scoring=None,\n",
       "                     solver='lbfgs', tol=0.0001, verbose=0)"
      ]
     },
     "execution_count": 10,
     "metadata": {},
     "output_type": "execute_result"
    }
   ],
   "source": [
    "# for example:\n",
    "linear_model.Lasso\n",
    "linear_model.Ridge\n",
    "linear_model.LogisticRegression\n",
    "\n",
    "linear_model.LassoCV() # Returns a Lasso (L1 Regularization) linear model with picking the best model by cross validation\n",
    "linear_model.RidgeCV() # Returns a Ridge (L2 Regularization) linear model with picking the best model by cross validation\n",
    "linear_model.LogisticRegressionCV() # return best logit model by CV"
   ]
  },
  {
   "cell_type": "markdown",
   "metadata": {},
   "source": [
    "Looping over models"
   ]
  },
  {
   "cell_type": "code",
   "execution_count": 11,
   "metadata": {},
   "outputs": [
    {
     "name": "stdout",
     "output_type": "stream",
     "text": [
      "svc_1     : 0.980 (0.016)\n",
      "svc_2     : 0.987 (0.016)\n",
      "neighbor  : 0.960 (0.025)\n"
     ]
    }
   ],
   "source": [
    "# set up models to try\n",
    "models = []\n",
    "models.append(('svc_1', SVC(gamma='auto') ))\n",
    "models.append(('svc_2', SVC(C=5) ))\n",
    "models.append(('neighbor',  KNeighborsClassifier(n_neighbors=1)))\n",
    "\n",
    "# loop and print\n",
    "for name, model in models:\n",
    "    scores = cross_validate(model, X, y, scoring='accuracy')\n",
    "    print('%s: %.3f (%.3f)' % (name.ljust(10), \n",
    "                                   scores['test_score'].mean(), \n",
    "                                   scores['test_score'].std()\n",
    "                                   )\n",
    "         )"
   ]
  },
  {
   "cell_type": "markdown",
   "metadata": {},
   "source": [
    "These are built in methods that help you pick the actual, specific parameters in the model to help it perform the best:\n",
    "* grid search CV\n",
    "* randomizedsearchCV"
   ]
  },
  {
   "cell_type": "markdown",
   "metadata": {},
   "source": [
    "### The X parameter"
   ]
  },
  {
   "cell_type": "markdown",
   "metadata": {},
   "source": [
    "You can loop over Xs"
   ]
  },
  {
   "cell_type": "code",
   "execution_count": 31,
   "metadata": {},
   "outputs": [],
   "source": [
    "# define a smaller X and a bigger X\n",
    "X_small = X[:,:2] # just first two columns\n",
    "\n",
    "from sklearn.preprocessing import PolynomialFeatures\n",
    "poly = PolynomialFeatures(degree=3, include_bias=False)\n",
    "X3 = poly.fit_transform(X) # has not 4 vars, but 34\n"
   ]
  },
  {
   "cell_type": "code",
   "execution_count": 37,
   "metadata": {},
   "outputs": [
    {
     "name": "stdout",
     "output_type": "stream",
     "text": [
      "neighbor  : 0.960 (0.025)\n",
      "neighbor  : 0.727 (0.061)\n",
      "neighbor  : 0.947 (0.016)\n"
     ]
    }
   ],
   "source": [
    "# set up Xs to try\n",
    "Xs = []\n",
    "Xs.append(('X', X))\n",
    "Xs.append(('X_small', X_small))\n",
    "Xs.append(('X3', X3)) \n",
    "\n",
    "# loop and print\n",
    "model = KNeighborsClassifier(n_neighbors = 1)\n",
    "\n",
    "for X_name, X in Xs:\n",
    "    scores = cross_validate(model, X, y, scoring='accuracy')\n",
    "    print('%s: %.3f (%.3f)' % (name.ljust(10), \n",
    "                                   scores['test_score'].mean(), \n",
    "                                   scores['test_score'].std()\n",
    "                                   )\n",
    "         )"
   ]
  },
  {
   "cell_type": "markdown",
   "metadata": {},
   "source": [
    "### Xs and Models"
   ]
  },
  {
   "cell_type": "code",
   "execution_count": 32,
   "metadata": {},
   "outputs": [
    {
     "data": {
      "text/plain": [
       "array([[  5.1  ,  26.01 , 132.651],\n",
       "       [  4.9  ,  24.01 , 117.649],\n",
       "       [  4.7  ,  22.09 , 103.823],\n",
       "       [  4.6  ,  21.16 ,  97.336],\n",
       "       [  5.   ,  25.   , 125.   ],\n",
       "       [  5.4  ,  29.16 , 157.464],\n",
       "       [  4.6  ,  21.16 ,  97.336],\n",
       "       [  5.   ,  25.   , 125.   ],\n",
       "       [  4.4  ,  19.36 ,  85.184],\n",
       "       [  4.9  ,  24.01 , 117.649],\n",
       "       [  5.4  ,  29.16 , 157.464],\n",
       "       [  4.8  ,  23.04 , 110.592],\n",
       "       [  4.8  ,  23.04 , 110.592],\n",
       "       [  4.3  ,  18.49 ,  79.507],\n",
       "       [  5.8  ,  33.64 , 195.112],\n",
       "       [  5.7  ,  32.49 , 185.193],\n",
       "       [  5.4  ,  29.16 , 157.464],\n",
       "       [  5.1  ,  26.01 , 132.651],\n",
       "       [  5.7  ,  32.49 , 185.193],\n",
       "       [  5.1  ,  26.01 , 132.651],\n",
       "       [  5.4  ,  29.16 , 157.464],\n",
       "       [  5.1  ,  26.01 , 132.651],\n",
       "       [  4.6  ,  21.16 ,  97.336],\n",
       "       [  5.1  ,  26.01 , 132.651],\n",
       "       [  4.8  ,  23.04 , 110.592],\n",
       "       [  5.   ,  25.   , 125.   ],\n",
       "       [  5.   ,  25.   , 125.   ],\n",
       "       [  5.2  ,  27.04 , 140.608],\n",
       "       [  5.2  ,  27.04 , 140.608],\n",
       "       [  4.7  ,  22.09 , 103.823],\n",
       "       [  4.8  ,  23.04 , 110.592],\n",
       "       [  5.4  ,  29.16 , 157.464],\n",
       "       [  5.2  ,  27.04 , 140.608],\n",
       "       [  5.5  ,  30.25 , 166.375],\n",
       "       [  4.9  ,  24.01 , 117.649],\n",
       "       [  5.   ,  25.   , 125.   ],\n",
       "       [  5.5  ,  30.25 , 166.375],\n",
       "       [  4.9  ,  24.01 , 117.649],\n",
       "       [  4.4  ,  19.36 ,  85.184],\n",
       "       [  5.1  ,  26.01 , 132.651],\n",
       "       [  5.   ,  25.   , 125.   ],\n",
       "       [  4.5  ,  20.25 ,  91.125],\n",
       "       [  4.4  ,  19.36 ,  85.184],\n",
       "       [  5.   ,  25.   , 125.   ],\n",
       "       [  5.1  ,  26.01 , 132.651],\n",
       "       [  4.8  ,  23.04 , 110.592],\n",
       "       [  5.1  ,  26.01 , 132.651],\n",
       "       [  4.6  ,  21.16 ,  97.336],\n",
       "       [  5.3  ,  28.09 , 148.877],\n",
       "       [  5.   ,  25.   , 125.   ],\n",
       "       [  7.   ,  49.   , 343.   ],\n",
       "       [  6.4  ,  40.96 , 262.144],\n",
       "       [  6.9  ,  47.61 , 328.509],\n",
       "       [  5.5  ,  30.25 , 166.375],\n",
       "       [  6.5  ,  42.25 , 274.625],\n",
       "       [  5.7  ,  32.49 , 185.193],\n",
       "       [  6.3  ,  39.69 , 250.047],\n",
       "       [  4.9  ,  24.01 , 117.649],\n",
       "       [  6.6  ,  43.56 , 287.496],\n",
       "       [  5.2  ,  27.04 , 140.608],\n",
       "       [  5.   ,  25.   , 125.   ],\n",
       "       [  5.9  ,  34.81 , 205.379],\n",
       "       [  6.   ,  36.   , 216.   ],\n",
       "       [  6.1  ,  37.21 , 226.981],\n",
       "       [  5.6  ,  31.36 , 175.616],\n",
       "       [  6.7  ,  44.89 , 300.763],\n",
       "       [  5.6  ,  31.36 , 175.616],\n",
       "       [  5.8  ,  33.64 , 195.112],\n",
       "       [  6.2  ,  38.44 , 238.328],\n",
       "       [  5.6  ,  31.36 , 175.616],\n",
       "       [  5.9  ,  34.81 , 205.379],\n",
       "       [  6.1  ,  37.21 , 226.981],\n",
       "       [  6.3  ,  39.69 , 250.047],\n",
       "       [  6.1  ,  37.21 , 226.981],\n",
       "       [  6.4  ,  40.96 , 262.144],\n",
       "       [  6.6  ,  43.56 , 287.496],\n",
       "       [  6.8  ,  46.24 , 314.432],\n",
       "       [  6.7  ,  44.89 , 300.763],\n",
       "       [  6.   ,  36.   , 216.   ],\n",
       "       [  5.7  ,  32.49 , 185.193],\n",
       "       [  5.5  ,  30.25 , 166.375],\n",
       "       [  5.5  ,  30.25 , 166.375],\n",
       "       [  5.8  ,  33.64 , 195.112],\n",
       "       [  6.   ,  36.   , 216.   ],\n",
       "       [  5.4  ,  29.16 , 157.464],\n",
       "       [  6.   ,  36.   , 216.   ],\n",
       "       [  6.7  ,  44.89 , 300.763],\n",
       "       [  6.3  ,  39.69 , 250.047],\n",
       "       [  5.6  ,  31.36 , 175.616],\n",
       "       [  5.5  ,  30.25 , 166.375],\n",
       "       [  5.5  ,  30.25 , 166.375],\n",
       "       [  6.1  ,  37.21 , 226.981],\n",
       "       [  5.8  ,  33.64 , 195.112],\n",
       "       [  5.   ,  25.   , 125.   ],\n",
       "       [  5.6  ,  31.36 , 175.616],\n",
       "       [  5.7  ,  32.49 , 185.193],\n",
       "       [  5.7  ,  32.49 , 185.193],\n",
       "       [  6.2  ,  38.44 , 238.328],\n",
       "       [  5.1  ,  26.01 , 132.651],\n",
       "       [  5.7  ,  32.49 , 185.193],\n",
       "       [  6.3  ,  39.69 , 250.047],\n",
       "       [  5.8  ,  33.64 , 195.112],\n",
       "       [  7.1  ,  50.41 , 357.911],\n",
       "       [  6.3  ,  39.69 , 250.047],\n",
       "       [  6.5  ,  42.25 , 274.625],\n",
       "       [  7.6  ,  57.76 , 438.976],\n",
       "       [  4.9  ,  24.01 , 117.649],\n",
       "       [  7.3  ,  53.29 , 389.017],\n",
       "       [  6.7  ,  44.89 , 300.763],\n",
       "       [  7.2  ,  51.84 , 373.248],\n",
       "       [  6.5  ,  42.25 , 274.625],\n",
       "       [  6.4  ,  40.96 , 262.144],\n",
       "       [  6.8  ,  46.24 , 314.432],\n",
       "       [  5.7  ,  32.49 , 185.193],\n",
       "       [  5.8  ,  33.64 , 195.112],\n",
       "       [  6.4  ,  40.96 , 262.144],\n",
       "       [  6.5  ,  42.25 , 274.625],\n",
       "       [  7.7  ,  59.29 , 456.533],\n",
       "       [  7.7  ,  59.29 , 456.533],\n",
       "       [  6.   ,  36.   , 216.   ],\n",
       "       [  6.9  ,  47.61 , 328.509],\n",
       "       [  5.6  ,  31.36 , 175.616],\n",
       "       [  7.7  ,  59.29 , 456.533],\n",
       "       [  6.3  ,  39.69 , 250.047],\n",
       "       [  6.7  ,  44.89 , 300.763],\n",
       "       [  7.2  ,  51.84 , 373.248],\n",
       "       [  6.2  ,  38.44 , 238.328],\n",
       "       [  6.1  ,  37.21 , 226.981],\n",
       "       [  6.4  ,  40.96 , 262.144],\n",
       "       [  7.2  ,  51.84 , 373.248],\n",
       "       [  7.4  ,  54.76 , 405.224],\n",
       "       [  7.9  ,  62.41 , 493.039],\n",
       "       [  6.4  ,  40.96 , 262.144],\n",
       "       [  6.3  ,  39.69 , 250.047],\n",
       "       [  6.1  ,  37.21 , 226.981],\n",
       "       [  7.7  ,  59.29 , 456.533],\n",
       "       [  6.3  ,  39.69 , 250.047],\n",
       "       [  6.4  ,  40.96 , 262.144],\n",
       "       [  6.   ,  36.   , 216.   ],\n",
       "       [  6.9  ,  47.61 , 328.509],\n",
       "       [  6.7  ,  44.89 , 300.763],\n",
       "       [  6.9  ,  47.61 , 328.509],\n",
       "       [  5.8  ,  33.64 , 195.112],\n",
       "       [  6.8  ,  46.24 , 314.432],\n",
       "       [  6.7  ,  44.89 , 300.763],\n",
       "       [  6.7  ,  44.89 , 300.763],\n",
       "       [  6.3  ,  39.69 , 250.047],\n",
       "       [  6.5  ,  42.25 , 274.625],\n",
       "       [  6.2  ,  38.44 , 238.328],\n",
       "       [  5.9  ,  34.81 , 205.379]])"
      ]
     },
     "execution_count": 32,
     "metadata": {},
     "output_type": "execute_result"
    }
   ],
   "source": [
    "poly.fit_transform(X[:,:1])"
   ]
  },
  {
   "cell_type": "code",
   "execution_count": 34,
   "metadata": {},
   "outputs": [
    {
     "data": {
      "text/plain": [
       "(150, 34)"
      ]
     },
     "execution_count": 34,
     "metadata": {},
     "output_type": "execute_result"
    }
   ],
   "source": [
    "X3.shape"
   ]
  },
  {
   "cell_type": "code",
   "execution_count": 39,
   "metadata": {},
   "outputs": [
    {
     "name": "stdout",
     "output_type": "stream",
     "text": [
      "svc_1      + X         : 0.980 (0.016)\n",
      "svc_2      + X         : 0.987 (0.016)\n",
      "neighbor   + X         : 0.960 (0.025)\n",
      "svc_1      + X_small   : 0.820 (0.058)\n",
      "svc_2      + X_small   : 0.813 (0.054)\n",
      "neighbor   + X_small   : 0.727 (0.061)\n",
      "svc_1      + X3        : 0.527 (0.077)\n",
      "svc_2      + X3        : 0.973 (0.025)\n",
      "neighbor   + X3        : 0.947 (0.016)\n"
     ]
    }
   ],
   "source": [
    "for X_name, X in Xs:\n",
    "    for name, model in models: \n",
    "        scores = cross_validate(model, X, y, scoring='accuracy', cv = 5)\n",
    "        print('%s + %s: %.3f (%.3f)' % (name.ljust(10), \n",
    "                                   X_name.ljust(10),\n",
    "                                   scores['test_score'].mean(), \n",
    "                                   scores['test_score'].std()\n",
    "                                  )\n",
    "             )"
   ]
  },
  {
   "cell_type": "markdown",
   "metadata": {},
   "source": [
    "### CV parameter and folds\n",
    "\n",
    "Just watch."
   ]
  },
  {
   "cell_type": "code",
   "execution_count": 40,
   "metadata": {},
   "outputs": [
    {
     "data": {
      "text/plain": [
       "{'fit_time': array([0.00227427, 0.00161672, 0.00191736, 0.00095201, 0.00196099]),\n",
       " 'score_time': array([0.00512743, 0.00399065, 0.00402427, 0.00395656, 0.00342226]),\n",
       " 'test_score': array([0.93333333, 0.96666667, 0.93333333, 0.93333333, 0.96666667])}"
      ]
     },
     "execution_count": 40,
     "metadata": {},
     "output_type": "execute_result"
    }
   ],
   "source": [
    "cross_validate(model, X, y, scoring='accuracy', cv = 5)"
   ]
  },
  {
   "cell_type": "code",
   "execution_count": 41,
   "metadata": {},
   "outputs": [],
   "source": [
    "# silly data for illustration\n",
    "\n",
    " y = ['a', 'a', 'a', 'b', 'b', 'b', 'c', 'c', 'c']"
   ]
  },
  {
   "cell_type": "code",
   "execution_count": 42,
   "metadata": {},
   "outputs": [
    {
     "ename": "SyntaxError",
     "evalue": "invalid syntax (<ipython-input-42-607e3fc1ee2e>, line 6)",
     "output_type": "error",
     "traceback": [
      "\u001b[1;36m  File \u001b[1;32m\"<ipython-input-42-607e3fc1ee2e>\"\u001b[1;36m, line \u001b[1;32m6\u001b[0m\n\u001b[1;33m    print(\"%s %s\" % [str(y[j] for j in train).ljust(32), [y[j]] for j in test])\u001b[0m\n\u001b[1;37m                                                                  ^\u001b[0m\n\u001b[1;31mSyntaxError\u001b[0m\u001b[1;31m:\u001b[0m invalid syntax\n"
     ]
    }
   ],
   "source": [
    "kf = KFold(n_splits = 3)\n",
    "kf = KFold(n_splits = 3, shuffle = True, random_state = 1)\n",
    "\n",
    "for train, test in kf.splits[y]:\n",
    "    print('train: %s test: %s' % [str(train).ljust(32), test])\n",
    "    print(\"%s %s\" % [str(y[j] for j in train).ljust(32), [y[j]] for j in test])"
   ]
  },
  {
   "cell_type": "markdown",
   "metadata": {},
   "source": [
    "## Links, resources, and next week\n",
    "\n",
    "Only two resources needed\n",
    "\n",
    "* sklearn docs are GREAT https://scikit-learn.org/stable/user_guide.html\n",
    "* Python Data Science Handbook (note some module calls are obsolete, so you might need to update code) https://jakevdp.github.io/PythonDataScienceHandbook/index.html\n",
    "\n",
    "Next week:\n",
    "\n",
    "* preprocessing\n",
    "* data transformations\n",
    "* feasture selection"
   ]
  },
  {
   "cell_type": "code",
   "execution_count": null,
   "metadata": {},
   "outputs": [],
   "source": []
  }
 ],
 "metadata": {
  "kernelspec": {
   "display_name": "Python 3",
   "language": "python",
   "name": "python3"
  },
  "language_info": {
   "codemirror_mode": {
    "name": "ipython",
    "version": 3
   },
   "file_extension": ".py",
   "mimetype": "text/x-python",
   "name": "python",
   "nbconvert_exporter": "python",
   "pygments_lexer": "ipython3",
   "version": "3.7.4"
  }
 },
 "nbformat": 4,
 "nbformat_minor": 2
}
