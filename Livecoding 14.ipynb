{
 "cells": [
  {
   "cell_type": "code",
   "execution_count": 2,
   "metadata": {},
   "outputs": [],
   "source": [
    "import re"
   ]
  },
  {
   "cell_type": "code",
   "execution_count": 3,
   "metadata": {},
   "outputs": [],
   "source": [
    "#functions: search, findall, finditer, group"
   ]
  },
  {
   "cell_type": "markdown",
   "metadata": {},
   "source": [
    "re.search(patter,text)"
   ]
  },
  {
   "cell_type": "code",
   "execution_count": 4,
   "metadata": {},
   "outputs": [
    {
     "data": {
      "text/plain": [
       "<re.Match object; span=(2, 3), match='c'>"
      ]
     },
     "execution_count": 4,
     "metadata": {},
     "output_type": "execute_result"
    }
   ],
   "source": [
    "re.search('c','abcdef')"
   ]
  },
  {
   "cell_type": "code",
   "execution_count": 11,
   "metadata": {},
   "outputs": [
    {
     "data": {
      "text/plain": [
       "<re.Match object; span=(3, 4), match='d'>"
      ]
     },
     "execution_count": 11,
     "metadata": {},
     "output_type": "execute_result"
    }
   ],
   "source": [
    "re.search('[d-f]','abcdef')"
   ]
  },
  {
   "cell_type": "code",
   "execution_count": 16,
   "metadata": {},
   "outputs": [
    {
     "data": {
      "text/plain": [
       "['d', 'e', 'f']"
      ]
     },
     "execution_count": 16,
     "metadata": {},
     "output_type": "execute_result"
    }
   ],
   "source": [
    "re.findall('[d-f]','abcdef')"
   ]
  },
  {
   "cell_type": "code",
   "execution_count": 17,
   "metadata": {},
   "outputs": [
    {
     "name": "stdout",
     "output_type": "stream",
     "text": [
      "found a match\n"
     ]
    }
   ],
   "source": [
    "#matched objects can be true or false\n",
    "if re.search('[d-f]','abcdef'):\n",
    "    print('found a match')\n",
    "else:\n",
    "    print('no match!')"
   ]
  },
  {
   "cell_type": "markdown",
   "metadata": {},
   "source": [
    "find all function"
   ]
  },
  {
   "cell_type": "code",
   "execution_count": 13,
   "metadata": {},
   "outputs": [
    {
     "data": {
      "text/plain": [
       "['d', 'e', 'f']"
      ]
     },
     "execution_count": 13,
     "metadata": {},
     "output_type": "execute_result"
    }
   ],
   "source": [
    "re.findall('[d-f]','abcdef') #find all returns a list of all matches"
   ]
  },
  {
   "cell_type": "code",
   "execution_count": 15,
   "metadata": {},
   "outputs": [
    {
     "name": "stdout",
     "output_type": "stream",
     "text": [
      "no match!\n"
     ]
    }
   ],
   "source": [
    "#matched objects can be true or false\n",
    "if re.search('[d-f][2]','abcdef'):\n",
    "    print('found a match')\n",
    "else:\n",
    "    print('no match!')\n",
    "#the program did not find at least two patterns"
   ]
  },
  {
   "cell_type": "code",
   "execution_count": 18,
   "metadata": {},
   "outputs": [
    {
     "data": {
      "text/plain": [
       "3"
      ]
     },
     "execution_count": 18,
     "metadata": {},
     "output_type": "execute_result"
    }
   ],
   "source": [
    "len(re.findall('[d-f]','abcdef'))"
   ]
  },
  {
   "cell_type": "code",
   "execution_count": 19,
   "metadata": {},
   "outputs": [
    {
     "data": {
      "text/plain": [
       "[]"
      ]
     },
     "execution_count": 19,
     "metadata": {},
     "output_type": "execute_result"
    }
   ],
   "source": [
    "#look for the letter 'c' but after the boundary\n",
    "re.findall('\\bc','cabcccccccccdef') #doesn't work because python cannot interpret \\b"
   ]
  },
  {
   "cell_type": "code",
   "execution_count": 21,
   "metadata": {},
   "outputs": [
    {
     "data": {
      "text/plain": [
       "['c']"
      ]
     },
     "execution_count": 21,
     "metadata": {},
     "output_type": "execute_result"
    }
   ],
   "source": [
    "re.findall(r'\\bc','cabcccccccccdef') #the 'r' forces python to read the raw version"
   ]
  },
  {
   "cell_type": "code",
   "execution_count": 22,
   "metadata": {},
   "outputs": [],
   "source": [
    "# \\w --> 'word' characters [A-Za-z0-9_]\n",
    "# {m}"
   ]
  },
  {
   "cell_type": "code",
   "execution_count": 37,
   "metadata": {},
   "outputs": [
    {
     "data": {
      "text/plain": [
       "['hey', 'guy']"
      ]
     },
     "execution_count": 37,
     "metadata": {},
     "output_type": "execute_result"
    }
   ],
   "source": [
    "text = 'hey there guy'\n",
    "re.findall(r'\\b\\w{3}\\b', text)\n",
    "#sets the boundaries, and finds something that's 3 letters in length"
   ]
  },
  {
   "cell_type": "markdown",
   "metadata": {},
   "source": [
    "## Let's do something more \"real\""
   ]
  },
  {
   "cell_type": "code",
   "execution_count": 51,
   "metadata": {},
   "outputs": [
    {
     "ename": "SyntaxError",
     "evalue": "invalid syntax (NEAR_regex.py, line 7)",
     "output_type": "error",
     "traceback": [
      "Traceback \u001b[0;36m(most recent call last)\u001b[0m:\n",
      "  File \u001b[1;32m\"/Users/mikestragapede/opt/anaconda3/lib/python3.7/site-packages/IPython/core/interactiveshell.py\"\u001b[0m, line \u001b[1;32m3326\u001b[0m, in \u001b[1;35mrun_code\u001b[0m\n    exec(code_obj, self.user_global_ns, self.user_ns)\n",
      "\u001b[0;36m  File \u001b[0;32m\"<ipython-input-51-d1a35bfcc615>\"\u001b[0;36m, line \u001b[0;32m1\u001b[0;36m, in \u001b[0;35m<module>\u001b[0;36m\u001b[0m\n\u001b[0;31m    from NEAR_regex import NEAR_regex\u001b[0m\n",
      "\u001b[0;36m  File \u001b[0;32m\"/Users/mikestragapede/Documents/GitHub/FIN377-participation/NEAR_regex.py\"\u001b[0;36m, line \u001b[0;32m7\u001b[0m\n\u001b[0;31m    <!DOCTYPE html>\u001b[0m\n\u001b[0m    ^\u001b[0m\n\u001b[0;31mSyntaxError\u001b[0m\u001b[0;31m:\u001b[0m invalid syntax\n"
     ]
    }
   ],
   "source": [
    "from NEAR_regex import NEAR_regex"
   ]
  },
  {
   "cell_type": "code",
   "execution_count": 50,
   "metadata": {},
   "outputs": [
    {
     "name": "stdout",
     "output_type": "stream",
     "text": [
      "Help on function NEAR_regex in module __main__:\n",
      "\n",
      "NEAR_regex(list_of_words, max_words_between=5, partial=False, cases_matter=False)\n",
      "        Parameters\n",
      "        ----------\n",
      "        list_of_words : list\n",
      "            A list of \"words\", each element is a string\n",
      "            \n",
      "            This program will return a regex that will look for times where word1 \n",
      "            is near word2, or word2 is near word 1.\n",
      "            \n",
      "            It works with multiple words: You can see if words1 is near word2 or\n",
      "            word3. \n",
      "            \n",
      "        max_words_between : int, optional\n",
      "            How many \"words\" are allowed between words in list_of_words. The default\n",
      "            is 5, but you should consider this carefully.\n",
      "            \n",
      "            \"words\" in between are chunks of characters. \"DON don don- don12 2454\" \n",
      "            is 5 words.\n",
      "            \n",
      "            This will not allow matches if the words are separated by a newline \n",
      "            (\"\n",
      "    \") character.\n",
      "            \n",
      "        partial : Boolean, optional\n",
      "            If true, will accept longer words than you give. For example, if one \n",
      "            word in your list is \"how\", it will match to \"howdy\". Be careful in \n",
      "            choosing this based on your problem. Partial makes more sense with \n",
      "            longer words. \n",
      "            The default is True.\n",
      "            \n",
      "        cases_matter: Boolean, optional bt IMPORTANT\n",
      "            If True, will return a regex string that will only catch cases where  \n",
      "            words in the string have the same case as given as input to this \n",
      "            function. For example, if one word here is \"Hi\", then the regex \n",
      "            produced by this function will not catch \"hi\".\n",
      "            \n",
      "            If false, will return a regex string that will only work if all letters\n",
      "            in search string are lowercase.\n",
      "            \n",
      "            The default is True.\n",
      "         \n",
      "            \n",
      "        Warning / Feature\n",
      "        -------\n",
      "        This WILL NOT \n",
      "        \n",
      "            \n",
      "        Unsure about speed\n",
      "        -------\n",
      "        I don't think this is a very \"fast\" function, but it should be robust. \n",
      "      \n",
      "        \n",
      "        Suggested use\n",
      "        -------\n",
      "        a_string_you_have = 'Jack and Jill went up the hill'\n",
      "        \n",
      "        # 1. define words and set up the regex\n",
      "        words = ['jack','hill']                         \n",
      "        rgx = NEAR_regex(words)                       \n",
      "        \n",
      "        # 2. convert the string to lowercase before searching!\n",
      "        a_string_you_have = a_string_you_have.lower()   \n",
      "        \n",
      "        # 3. len+findall+rgx = counts the number of times the word groups are close\n",
      "        count = len(re.findall(rgx,test))              \n",
      "        print(count)                                 \n",
      "    \n",
      "        \n",
      "        Returns\n",
      "        -------\n",
      "        A string which is a regex that can be used to look for cases where all the \n",
      "        input words are near each other.\n",
      "\n"
     ]
    }
   ],
   "source": [
    "help(NEAR_regex)"
   ]
  },
  {
   "cell_type": "code",
   "execution_count": 46,
   "metadata": {},
   "outputs": [
    {
     "data": {
      "text/plain": [
       "'(?:\\\\bjack\\\\b(?: +[^ \\\\n]*){0,5} *\\\\bhill\\\\b(?: +[^ \\\\n]*){0,5} *\\\\bjill\\\\b)|(?:\\\\bjack\\\\b(?: +[^ \\\\n]*){0,5} *\\\\bjill\\\\b(?: +[^ \\\\n]*){0,5} *\\\\bhill\\\\b)|(?:\\\\bhill\\\\b(?: +[^ \\\\n]*){0,5} *\\\\bjack\\\\b(?: +[^ \\\\n]*){0,5} *\\\\bjill\\\\b)|(?:\\\\bhill\\\\b(?: +[^ \\\\n]*){0,5} *\\\\bjill\\\\b(?: +[^ \\\\n]*){0,5} *\\\\bjack\\\\b)|(?:\\\\bjill\\\\b(?: +[^ \\\\n]*){0,5} *\\\\bjack\\\\b(?: +[^ \\\\n]*){0,5} *\\\\bhill\\\\b)|(?:\\\\bjill\\\\b(?: +[^ \\\\n]*){0,5} *\\\\bhill\\\\b(?: +[^ \\\\n]*){0,5} *\\\\bjack\\\\b)'"
      ]
     },
     "execution_count": 46,
     "metadata": {},
     "output_type": "execute_result"
    }
   ],
   "source": [
    "a_string_you_have = 'Jack and Jill went up the hill'\n",
    "words = ['jack','hill','jill']\n",
    "rgx = NEAR_regex(words)\n",
    "rgx"
   ]
  },
  {
   "cell_type": "code",
   "execution_count": 47,
   "metadata": {},
   "outputs": [
    {
     "data": {
      "text/plain": [
       "['jack and jill went up the hill']"
      ]
     },
     "execution_count": 47,
     "metadata": {},
     "output_type": "execute_result"
    }
   ],
   "source": [
    "a_string_you_have = a_string_you_have.lower()\n",
    "re.findall(rgx,a_string_you_have)"
   ]
  },
  {
   "cell_type": "code",
   "execution_count": 55,
   "metadata": {},
   "outputs": [
    {
     "data": {
      "text/plain": [
       "1"
      ]
     },
     "execution_count": 55,
     "metadata": {},
     "output_type": "execute_result"
    }
   ],
   "source": [
    "len(re.findall(rgx,a_string_you_have)) #the words are next to each other only once"
   ]
  },
  {
   "cell_type": "code",
   "execution_count": 56,
   "metadata": {},
   "outputs": [
    {
     "data": {
      "text/plain": [
       "1"
      ]
     },
     "execution_count": 56,
     "metadata": {},
     "output_type": "execute_result"
    }
   ],
   "source": [
    "a_string_you_have = 'Jack and Jill went up the hill and Jack again hills'\n",
    "words = ['jack','(hill|hilss)']\n",
    "rgx = NEAR_regex(words, max_words_between=1)\n",
    "a_string_you_have = a_string_you_have.lower()\n",
    "#re.findall(rgx,a_string_you_have)\n",
    "len(re.findall(rgx,a_string_you_have)) #the words are next to each other only once"
   ]
  },
  {
   "cell_type": "code",
   "execution_count": 57,
   "metadata": {},
   "outputs": [
    {
     "ename": "NameError",
     "evalue": "name 'edgar_resp' is not defined",
     "output_type": "error",
     "traceback": [
      "\u001b[0;31m---------------------------------------------------------------------------\u001b[0m",
      "\u001b[0;31mNameError\u001b[0m                                 Traceback (most recent call last)",
      "\u001b[0;32m<ipython-input-57-24879004d75a>\u001b[0m in \u001b[0;36m<module>\u001b[0;34m\u001b[0m\n\u001b[0;32m----> 1\u001b[0;31m \u001b[0mloaded_file\u001b[0m \u001b[0;34m=\u001b[0m \u001b[0medgar_resp\u001b[0m\u001b[0;34m.\u001b[0m\u001b[0mcontent\u001b[0m\u001b[0;34m\u001b[0m\u001b[0;34m\u001b[0m\u001b[0m\n\u001b[0m",
      "\u001b[0;31mNameError\u001b[0m: name 'edgar_resp' is not defined"
     ]
    }
   ],
   "source": [
    "loaded_file = edgar_resp.content"
   ]
  },
  {
   "cell_type": "code",
   "execution_count": 58,
   "metadata": {},
   "outputs": [
    {
     "ename": "NameError",
     "evalue": "name 'loaded_file' is not defined",
     "output_type": "error",
     "traceback": [
      "\u001b[0;31m---------------------------------------------------------------------------\u001b[0m",
      "\u001b[0;31mNameError\u001b[0m                                 Traceback (most recent call last)",
      "\u001b[0;32m<ipython-input-58-a7bcf848948f>\u001b[0m in \u001b[0;36m<module>\u001b[0;34m\u001b[0m\n\u001b[0;32m----> 1\u001b[0;31m \u001b[0mloaded_file\u001b[0m\u001b[0;34m\u001b[0m\u001b[0;34m\u001b[0m\u001b[0m\n\u001b[0m",
      "\u001b[0;31mNameError\u001b[0m: name 'loaded_file' is not defined"
     ]
    }
   ],
   "source": [
    "loaded_file"
   ]
  },
  {
   "cell_type": "code",
   "execution_count": 59,
   "metadata": {},
   "outputs": [],
   "source": [
    "text = ''' <p> \\n\\r\\t <b> hey </b> THERE-I' m John </p>'''"
   ]
  },
  {
   "cell_type": "code",
   "execution_count": 60,
   "metadata": {},
   "outputs": [
    {
     "ename": "NameError",
     "evalue": "name 'BeautifulSoup' is not defined",
     "output_type": "error",
     "traceback": [
      "\u001b[0;31m---------------------------------------------------------------------------\u001b[0m",
      "\u001b[0;31mNameError\u001b[0m                                 Traceback (most recent call last)",
      "\u001b[0;32m<ipython-input-60-26348f7c6f4a>\u001b[0m in \u001b[0;36m<module>\u001b[0;34m\u001b[0m\n\u001b[0;32m----> 1\u001b[0;31m \u001b[0mtext\u001b[0m \u001b[0;34m=\u001b[0m \u001b[0mBeautifulSoup\u001b[0m\u001b[0;34m(\u001b[0m\u001b[0mtext\u001b[0m\u001b[0;34m,\u001b[0m\u001b[0;34m'lxm'\u001b[0m\u001b[0;34m)\u001b[0m\u001b[0;34m.\u001b[0m\u001b[0mget_text\u001b[0m\u001b[0;34m(\u001b[0m\u001b[0;34m)\u001b[0m\u001b[0;34m.\u001b[0m\u001b[0mlower\u001b[0m\u001b[0;34m(\u001b[0m\u001b[0;34m)\u001b[0m \u001b[0;31m#converts to lower case\u001b[0m\u001b[0;34m\u001b[0m\u001b[0;34m\u001b[0m\u001b[0m\n\u001b[0m\u001b[1;32m      2\u001b[0m \u001b[0mno_punc\u001b[0m \u001b[0;34m=\u001b[0m \u001b[0mre\u001b[0m\u001b[0;34m.\u001b[0m\u001b[0msub\u001b[0m\u001b[0;34m(\u001b[0m\u001b[0;34mr'\\W'\u001b[0m\u001b[0;34m,\u001b[0m\u001b[0;34m' '\u001b[0m\u001b[0;34m,\u001b[0m\u001b[0mtext\u001b[0m\u001b[0;34m)\u001b[0m\u001b[0;34m\u001b[0m\u001b[0;34m\u001b[0m\u001b[0m\n\u001b[1;32m      3\u001b[0m \u001b[0mcleaned\u001b[0m \u001b[0;34m=\u001b[0m \u001b[0mre\u001b[0m\u001b[0;34m.\u001b[0m\u001b[0msub\u001b[0m\u001b[0;34m(\u001b[0m\u001b[0;34m'/s+'\u001b[0m\u001b[0;34m,\u001b[0m\u001b[0;34m' '\u001b[0m\u001b[0;34m,\u001b[0m\u001b[0mno_punc\u001b[0m\u001b[0;34m)\u001b[0m\u001b[0;34m.\u001b[0m\u001b[0mstrip\u001b[0m\u001b[0;34m(\u001b[0m\u001b[0;34m)\u001b[0m\u001b[0;34m\u001b[0m\u001b[0;34m\u001b[0m\u001b[0m\n",
      "\u001b[0;31mNameError\u001b[0m: name 'BeautifulSoup' is not defined"
     ]
    }
   ],
   "source": [
    "text = BeautifulSoup(text,'lxm').get_text().lower() #converts to lower case\n",
    "no_punc = re.sub(r'\\W',' ',text)\n",
    "cleaned = re.sub('/s+',' ',no_punc).strip()"
   ]
  },
  {
   "cell_type": "code",
   "execution_count": 62,
   "metadata": {},
   "outputs": [],
   "source": [
    "secondary_list = ['risk','expens']"
   ]
  },
  {
   "cell_type": "code",
   "execution_count": 61,
   "metadata": {},
   "outputs": [
    {
     "ename": "SyntaxError",
     "evalue": "invalid syntax (<ipython-input-61-498c405bc2c4>, line 2)",
     "output_type": "error",
     "traceback": [
      "\u001b[0;36m  File \u001b[0;32m\"<ipython-input-61-498c405bc2c4>\"\u001b[0;36m, line \u001b[0;32m2\u001b[0m\n\u001b[0;31m    pattern = NEAR_regex(['lithium',word], max_words_between=70 partial = True)\u001b[0m\n\u001b[0m                                                                      ^\u001b[0m\n\u001b[0;31mSyntaxError\u001b[0m\u001b[0;31m:\u001b[0m invalid syntax\n"
     ]
    }
   ],
   "source": [
    "for word in secondary_list:\n",
    "    pattern = NEAR_regex(['lithium',word], max_words_between=70 partial = True)\n",
    "    print(len(re.findall(pattern,cleaned)))"
   ]
  },
  {
   "cell_type": "code",
   "execution_count": null,
   "metadata": {},
   "outputs": [],
   "source": []
  }
 ],
 "metadata": {
  "kernelspec": {
   "display_name": "Python 3",
   "language": "python",
   "name": "python3"
  },
  "language_info": {
   "codemirror_mode": {
    "name": "ipython",
    "version": 3
   },
   "file_extension": ".py",
   "mimetype": "text/x-python",
   "name": "python",
   "nbconvert_exporter": "python",
   "pygments_lexer": "ipython3",
   "version": "3.7.4"
  }
 },
 "nbformat": 4,
 "nbformat_minor": 2
}
