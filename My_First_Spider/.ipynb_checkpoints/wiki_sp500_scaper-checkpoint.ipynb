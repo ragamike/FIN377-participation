{
 "cells": [
  {
   "cell_type": "code",
   "execution_count": 3,
   "metadata": {},
   "outputs": [
    {
     "ename": "ModuleNotFoundError",
     "evalue": "No module named 'requests_html'",
     "output_type": "error",
     "traceback": [
      "\u001b[0;31m---------------------------------------------------------------------------\u001b[0m",
      "\u001b[0;31mModuleNotFoundError\u001b[0m                       Traceback (most recent call last)",
      "\u001b[0;32m<ipython-input-3-2305a498892f>\u001b[0m in \u001b[0;36m<module>\u001b[0;34m\u001b[0m\n\u001b[1;32m      1\u001b[0m \u001b[0;32mimport\u001b[0m \u001b[0mpandas\u001b[0m \u001b[0;32mas\u001b[0m \u001b[0mpd\u001b[0m\u001b[0;34m\u001b[0m\u001b[0;34m\u001b[0m\u001b[0m\n\u001b[1;32m      2\u001b[0m \u001b[0;32mimport\u001b[0m \u001b[0mos\u001b[0m\u001b[0;34m\u001b[0m\u001b[0;34m\u001b[0m\u001b[0m\n\u001b[0;32m----> 3\u001b[0;31m \u001b[0;32mfrom\u001b[0m \u001b[0mrequests_html\u001b[0m \u001b[0;32mimport\u001b[0m \u001b[0mHTMLSession\u001b[0m\u001b[0;34m\u001b[0m\u001b[0;34m\u001b[0m\u001b[0m\n\u001b[0m\u001b[1;32m      4\u001b[0m \u001b[0;34m\u001b[0m\u001b[0m\n\u001b[1;32m      5\u001b[0m \u001b[0;31m#### Section 1: get the urls to crawl\u001b[0m\u001b[0;34m\u001b[0m\u001b[0;34m\u001b[0m\u001b[0;34m\u001b[0m\u001b[0m\n",
      "\u001b[0;31mModuleNotFoundError\u001b[0m: No module named 'requests_html'"
     ]
    }
   ],
   "source": [
    "import pandas as pd\n",
    "import os\n",
    "from requests_html import HTMLSession\n",
    "import re\n",
    "from time import sleep\n",
    "\n",
    "#### Section 1: get the urls to crawl\n",
    "\n",
    "if not os.path.exists('inputs/'):\n",
    "    os.makedirs('inputs/')\n",
    "    \n",
    "if not os.path.exsists('inputs/sp500_wiki_urls.csv'):\n",
    "    #open the page\n",
    "    url = 'https://en.wikipedia.org/wiki/List_of_S%26P_500_companies'\n",
    "    session = HTMLSession()\n",
    "    r = session.get(url)\n",
    "\n",
    "    table = r.html.find('#constituents')[0]\n",
    "    table_rows = table.find('tr')\n",
    "\n",
    "    colinks = []\n",
    "    for row in table_rows[1:]:\n",
    "        a_link = list(row.find('td')[1].absolute_links)[0]\n",
    "        colinks.append(a_link)\n",
    "\n",
    "    #save it\n",
    "    pd.DataFrame(colinks).to_csv('this.csv', header = False, index = False)\n",
    "    \n",
    "else:\n",
    "    colinks = pd.read_csv('inputs/sp500_wiki_urls.csv', names = ['Firms'])['firms'].to_list()"
   ]
  },
  {
   "cell_type": "markdown",
   "metadata": {},
   "source": [
    "# Section 2: crawl the urls\n",
    "\n",
    "for row in the data structure with urls or info that leads to urls:\n",
    "Q0: what's the url\n",
    "Q1: what's the folder to save the html\n",
    "Q2: whats the filename\n",
    "Q1 + Q2 = path/filename ill save it to\n",
    "if you already have the path/filename\n",
    "\n",
    "open page\n",
    "save the html to some path/filename"
   ]
  },
  {
   "cell_type": "code",
   "execution_count": null,
   "metadata": {},
   "outputs": [],
   "source": [
    "#### Section 2: crawl the urls\n",
    "\n",
    "for url in colinks:\n",
    "    folder = 'wiki_html'\n",
    "    filepath = folder + '/' + re.sub(r'/W+','',url.split('/')[-1]) + '.txt'\n",
    "    if not os.path.exists(filepath): \n",
    "        try:\n",
    "            r = session.get(url)\n",
    "        except:\n",
    "             print('crap...')\n",
    "        else:\n",
    "            print('save me!')\n",
    "            sleep(3)"
   ]
  },
  {
   "cell_type": "code",
   "execution_count": null,
   "metadata": {},
   "outputs": [],
   "source": [
    "#colinks.split('/')[-1] + '.txt'#breaks the link into a list, copies the last one\n",
    "for url in colinks:\n",
    "    path = re.sub(r'\\W+','',url.split('/')[-1])\n",
    "    print('wiki_+html/' + path + '.txt')"
   ]
  }
 ],
 "metadata": {
  "kernelspec": {
   "display_name": "Python 3",
   "language": "python",
   "name": "python3"
  },
  "language_info": {
   "codemirror_mode": {
    "name": "ipython",
    "version": 3
   },
   "file_extension": ".py",
   "mimetype": "text/x-python",
   "name": "python",
   "nbconvert_exporter": "python",
   "pygments_lexer": "ipython3",
   "version": "3.7.4"
  }
 },
 "nbformat": 4,
 "nbformat_minor": 2
}
