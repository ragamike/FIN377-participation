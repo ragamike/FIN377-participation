{
 "cells": [
  {
   "cell_type": "markdown",
   "metadata": {},
   "source": [
    "# A simple program (Yes, this webpage is a .ipynb file!)\n",
    "\n",
    "The goal of this notebook is to illustrate basic finance computations within a markdown document. There is an analogous .py file, whose results have to be logged. Then, to produce output, you'd have to copy and paste key output into a Word document. This notebook does both at once!\n",
    "\n",
    "_**The point of this notebook is ONLY illustration! Pay attention to its structure and flow, and get an early glimpse of just a little bit that we can do with `pandas`, `seaborn`, and a few other packages.**_\n",
    "\n",
    "First, we start by importing key packages...\n",
    "\n",
    "The core Python language is quite small (nimble and easy to maintain), so we add functionality by using external packages. **The import calls should always be at the top of your code!**\n",
    "\n",
    "## If you want to run this code (and you should try!)\n",
    "\n",
    "1. Download the raw [raw unrendered ipynb file here called \"02a-a-simple-program.ipynb\"](https://github.com/LeDataSciFi/lectures-spr2020/tree/master/content/01/python-files). On Chrome and Firefox, you simply right click the file name and select \"Save Link As\". Put the file in the same folder with the file you're working on already and then open it in Jupyter.\n",
    "1. Open **a new/second** terminal/powershell and type `pip install pandas_datareader` \n",
    "1. Click the \"Kernel\" menu above, then \"Restart & Clear Output\". Now all the results below will disappear.\n",
    "1. Click the \"Cell\" menu above, then \"Run All\""
   ]
  },
  {
   "cell_type": "code",
   "execution_count": 1,
   "metadata": {},
   "outputs": [
    {
     "ename": "ModuleNotFoundError",
     "evalue": "No module named 'pandas_datareader'",
     "output_type": "error",
     "traceback": [
      "\u001b[0;31m---------------------------------------------------------------------------\u001b[0m",
      "\u001b[0;31mModuleNotFoundError\u001b[0m                       Traceback (most recent call last)",
      "\u001b[0;32m<ipython-input-1-446b0483aaab>\u001b[0m in \u001b[0;36m<module>\u001b[0;34m\u001b[0m\n\u001b[1;32m      1\u001b[0m \u001b[0;32mimport\u001b[0m \u001b[0mpandas\u001b[0m \u001b[0;32mas\u001b[0m \u001b[0mpd\u001b[0m\u001b[0;34m\u001b[0m\u001b[0;34m\u001b[0m\u001b[0m\n\u001b[1;32m      2\u001b[0m \u001b[0;32mimport\u001b[0m \u001b[0mnumpy\u001b[0m \u001b[0;32mas\u001b[0m \u001b[0mnp\u001b[0m\u001b[0;34m\u001b[0m\u001b[0;34m\u001b[0m\u001b[0m\n\u001b[0;32m----> 3\u001b[0;31m \u001b[0;32mimport\u001b[0m \u001b[0mpandas_datareader\u001b[0m \u001b[0;32mas\u001b[0m \u001b[0mpdr\u001b[0m \u001b[0;31m# you might need to install this (see above)\u001b[0m\u001b[0;34m\u001b[0m\u001b[0;34m\u001b[0m\u001b[0m\n\u001b[0m\u001b[1;32m      4\u001b[0m \u001b[0;32mimport\u001b[0m \u001b[0mmatplotlib\u001b[0m\u001b[0;34m.\u001b[0m\u001b[0mpyplot\u001b[0m \u001b[0;32mas\u001b[0m \u001b[0mplt\u001b[0m\u001b[0;34m\u001b[0m\u001b[0;34m\u001b[0m\u001b[0m\n\u001b[1;32m      5\u001b[0m \u001b[0;32mimport\u001b[0m \u001b[0mseaborn\u001b[0m \u001b[0;32mas\u001b[0m \u001b[0msns\u001b[0m\u001b[0;34m\u001b[0m\u001b[0;34m\u001b[0m\u001b[0m\n",
      "\u001b[0;31mModuleNotFoundError\u001b[0m: No module named 'pandas_datareader'"
     ]
    }
   ],
   "source": [
    "import pandas as pd\n",
    "import numpy as np\n",
    "import pandas_datareader as pdr # you might need to install this (see above)\n",
    "import matplotlib.pyplot as plt\n",
    "import seaborn as sns\n",
    "import statsmodels.api as sm"
   ]
  },
  {
   "cell_type": "markdown",
   "metadata": {},
   "source": [
    "## Data\n",
    "\n",
    "Pandas can acquire a lot of economic data itself, by downloading data from websites through built-in APIs. You'll learn what this means soon!\n",
    "\n",
    "First, we grab stock prices for three fims. Then we compute daily returns and output some basic statistics."
   ]
  },
  {
   "cell_type": "code",
   "execution_count": null,
   "metadata": {},
   "outputs": [],
   "source": [
    "stock_prices = pdr.get_data_yahoo(['AAPL','MSFT','VZ'], start=2006)\n",
    "stock_prices = stock_prices.filter(like='Adj Close') # reduce to just columns with this in the name\n",
    "stock_prices.columns = ['AAPL','MSFT','VZ']\n",
    "\n",
    "daily_pct_change = pd.DataFrame()\n",
    "for stock in ['AAPL','MSFT','VZ']:\n",
    "    daily_pct_change[stock] = stock_prices[stock].pct_change() \n",
    "\n",
    "print(daily_pct_change.describe())"
   ]
  },
  {
   "cell_type": "markdown",
   "metadata": {},
   "source": [
    "## Data visualization - Compare the returns of sample firms\n",
    "\n",
    "The following figure reports all of the pairwise correlations between the sample firms, along with the distribution of each.  \n",
    "\n",
    "We know from the above table that Apple has the largest mean and standard deviation of the three. The plot type below is useful for seeing if the variables have non-linear relationships, strange outliers, fat tails, or other issues. "
   ]
  },
  {
   "cell_type": "code",
   "execution_count": null,
   "metadata": {},
   "outputs": [],
   "source": [
    "# we need this helper function for a plot\n",
    "\n",
    "def plot_unity(xdata, ydata, **kwargs):\n",
    "    '''\n",
    "    Adds a 45 degree line to the pairplot for plots off the diagonal\n",
    "    \n",
    "    Usage: \n",
    "    grid=sns.pairplot( <call pairplot as you want >  )\n",
    "    grid.map_offdiag(plot_unity)\n",
    "    '''\n",
    "    mn = min(xdata.min(), ydata.min())\n",
    "    mx = max(xdata.max(), ydata.max())\n",
    "    points = np.linspace(mn, mx, 100)\n",
    "    plt.gca().plot(points, points, color='k', marker=None,\n",
    "            linestyle='--', linewidth=1.0)\n",
    "     \n",
    "# compare the return distribution of 3 firms visually...\n",
    "    \n",
    "#grid = sns.pairplot(daily_pct_change,diag_kind='kde',kind=\"reg\")\n",
    "grid.map_offdiag(plot_unity) # how cool is that!"
   ]
  },
  {
   "cell_type": "markdown",
   "metadata": {},
   "source": [
    "## Factor loadings\n",
    "\n",
    "A core task in asset pricing is calculating the beta of a stock, along with loadings on other factors. The canonical model is the Fama-French 3 factor model, though 4 and 5 factor models are more popular nowadays.\n",
    "\n",
    "### Merge data on factor loadings with stock return data\n",
    "\n",
    "We start by grabbing factor returns from Ken French's website, again via pandas API."
   ]
  },
  {
   "cell_type": "code",
   "execution_count": null,
   "metadata": {},
   "outputs": [],
   "source": [
    "ff = pdr.get_data_famafrench('F-F_Research_Data_5_Factors_2x3_daily',start=2006)[0] # the [0] is because the imported obect is a dictionary, and key=0 is the dataframe\n",
    "ff.rename(columns={\"Mkt-RF\":\"mkt_excess\"}, inplace=True) # cleaner name\n",
    "ff = ff.join(daily_pct_change,how='inner') # merge with stock returns\n",
    "for stock in ['MSFT','AAPL','VZ']:    \n",
    "    ff[stock] = ff[stock] * 100 # FF store variables as percents, so convert to that\n",
    "    ff[stock+'_excess'] = ff[stock] - ff['RF'] # convert to excess returns in prep for regressions\n",
    "#print(ff.describe()) # ugly...\n",
    "pd.set_option('display.float_format', lambda x: '%.2f' % x) # show fewer digits\n",
    "pd.options.display.max_columns = ff.shape[1] # show more columns\n",
    "print(ff.describe(include = 'all')) # better!"
   ]
  },
  {
   "cell_type": "markdown",
   "metadata": {},
   "source": [
    "### Now we run the models.\n",
    "\n",
    "We loop over the stocks, and for each stock, we regress the stock's excess returns on a market (excess) return factor, the size factor \"SMB\" and the value factor \"HML\" (see Fama and French (1993))."
   ]
  },
  {
   "cell_type": "code",
   "execution_count": null,
   "metadata": {},
   "outputs": [],
   "source": [
    "# run the models- \n",
    "params=pd.DataFrame()\n",
    "for stock in ['MSFT','AAPL','VZ']:        \n",
    "    print('\\n\\n\\n','='*40,'\\n',stock,'\\n','='*40,'\\n')\n",
    "    model = sm.formula.ols(formula = stock+\"_excess ~ mkt_excess + SMB + HML\", data = ff).fit()\n",
    "    print(model.summary())\n",
    "    params[stock] = model.params.tolist()\n",
    "params.set_index(model.params.index,inplace=True)   "
   ]
  },
  {
   "cell_type": "markdown",
   "metadata": {},
   "source": [
    "### Estimated factor loadings"
   ]
  },
  {
   "cell_type": "code",
   "execution_count": null,
   "metadata": {},
   "outputs": [],
   "source": [
    "pd.set_option('display.float_format', lambda x: '%.4f' % x) # show fewer digits\n",
    "print(params)"
   ]
  },
  {
   "cell_type": "markdown",
   "metadata": {},
   "source": [
    "##  Plot the cumulative returns of the three stocks\n",
    "\n",
    "Finally, I plot the cumulative return from January 1, 2006 until January 2020 by computing for each stock $i$\n",
    "\n",
    "$cumret(i,T)=\\prod^T_{t=0} (1+r_{i,t})$\n",
    "\n",
    "where $T$ is a date and $t=0$ corresponds to the beginning of the sample."
   ]
  },
  {
   "cell_type": "code",
   "execution_count": null,
   "metadata": {},
   "outputs": [],
   "source": [
    "cumrets=(daily_pct_change+1).cumprod()-1\n",
    "plt.clf() # clear the prior plot before starting a new one\n",
    "sns.lineplot(data=cumrets).set_title(\"Returns, ex-dividends\")\n",
    "plt.show(grid)"
   ]
  },
  {
   "cell_type": "markdown",
   "metadata": {},
   "source": [
    "## Lecture flow\n",
    "\n",
    "Now please [go back](../02_Jupyter_Basics.html#Installing-libraries) and finish the lecture. "
   ]
  },
  {
   "cell_type": "code",
   "execution_count": null,
   "metadata": {},
   "outputs": [],
   "source": []
  }
 ],
 "metadata": {
  "kernelspec": {
   "display_name": "Python 3",
   "language": "python",
   "name": "python3"
  },
  "language_info": {
   "codemirror_mode": {
    "name": "ipython",
    "version": 3
   },
   "file_extension": ".py",
   "mimetype": "text/x-python",
   "name": "python",
   "nbconvert_exporter": "python",
   "pygments_lexer": "ipython3",
   "version": "3.7.3"
  }
 },
 "nbformat": 4,
 "nbformat_minor": 2
}
