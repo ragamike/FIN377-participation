{
 "cells": [
  {
   "cell_type": "code",
   "execution_count": null,
   "metadata": {},
   "outputs": [],
   "source": [
    "reg = Pipeline([\n",
    "                ('feature_selection', SelectFromModel(LinearSVC(penalty=\"l1\"))), # or SFM(LassoCV()) \n",
    "                ('reg', LinearRegression())\n",
    "              ])\n",
    "reg.fit(X, y)"
   ]
  },
  {
   "cell_type": "code",
   "execution_count": null,
   "metadata": {},
   "outputs": [],
   "source": [
    "<build list of models>\n",
    " for model in models:\n",
    "     cross_validate(model, X, y, cv, ...)"
   ]
  },
  {
   "cell_type": "markdown",
   "metadata": {},
   "source": [
    "# Those 5 steps in pseudo code"
   ]
  },
  {
   "cell_type": "code",
   "execution_count": null,
   "metadata": {},
   "outputs": [],
   "source": [
    "imports \n",
    "load data\n",
    "\n",
    "########################################################################################\n",
    "# STEP 0: EDA\n",
    "########################################################################################\n",
    "\n",
    "Obviously, explore the data and use best practices throughout. This is just pseudo code,\n",
    "not a fully fleshed out \"fill in the blanks\" template\n",
    "\n",
    "########################################################################################\n",
    "# STEP 1: build a pipeline with data cleaning and an estimator\n",
    "########################################################################################\n",
    "\n",
    "# after this, I quickly run pipe_modelName.fit() and pipe_modelName.predict()  \n",
    "# to make sure this works before going forward, but then delete those commands\n",
    "\n",
    "pipe_modelName = make_pipeline(<a sequence of data steps, and the last step is a model>)  \n",
    "\n",
    "########################################################################################\n",
    "# STEP 2: optimize the pipeline\n",
    "########################################################################################\n",
    "\n",
    "# this is the GridSearchCV approach - manually set up the param&value combos to try\n",
    "# doc + examples: https://scikit-learn.org/stable/modules/generated/sklearn.model_selection.GridSearchCV.html#sklearn.model_selection.GridSearchCV \n",
    "\n",
    "param_grid = {'stepname__paramname':[val1,val2,...,valN]} # params to try\n",
    "cv = ...                                                  # what folds to use\n",
    "grid = GridSearchCV(pipe_modelName, param_grid,cv,...)    # set up optimizer\n",
    "grid.fit(X,y)                              # fit grid like a \"normal model obj\"\n",
    "optimal_vrs_of_model1 = grid.best_params_  # grid now has new features. save best model\n",
    "\n",
    "# part of this optimization step is picking the best model features\n",
    "\n",
    "########################################################################################\n",
    "# STEP 3: NOW MOVING BEYOND THAT,YOU SHOULD TRY OTHER THINGS! \n",
    "#           (WHAT ARE THE ODDS YOUR FIRST PASS CAN'T BE BEAT?)\n",
    "########################################################################################\n",
    "\n",
    "# MODEL #2\n",
    "# build a new pipeline (e.g. change the model type, which vars to use, how to modify\n",
    "# the vars)\n",
    "# and repeat the pipeline optimization. save the optimal vrs of that model.\n",
    "\n",
    "# MODEL #3\n",
    "# again...\n",
    "\n",
    "...\n",
    "\n",
    "# MODEL #N:\n",
    "# again...\n",
    "\n",
    "########################################################################################\n",
    "# STEP 4: Compare the optimized models\n",
    "########################################################################################\n",
    "\n",
    "# In practice, I'd actually loop through the models with a for-loop and print\n",
    "# the name/scores nicely, but this is just pseudo code\n",
    "\n",
    "cross_validate(optimal_vrs_of_model1,...)   \n",
    "cross_validate(optimal_vrs_of_model2,...) \n",
    "...\n",
    "cross_validate(optimal_vrs_of_modelN,...) \n",
    "\n",
    "########################################################################################\n",
    "# STEP 5: Finishing up\n",
    "########################################################################################\n",
    "\n",
    "# summarize your preferred model (print stats, visual support backing your choice)\n",
    "# save the model as an OBJECT others can load and use quickly\n",
    "\n",
    "we will do this in a minute!"
   ]
  },
  {
   "cell_type": "code",
   "execution_count": null,
   "metadata": {},
   "outputs": [],
   "source": [
    "knn_pipe2 = make_pipeline(\n",
    "                        SimpleImputer(strategy='mean'),\n",
    "                        preprocessing.StandardScaler(),  # clean the data\n",
    "                        KNeighborsClassifier()           # model\n",
    "                        )"
   ]
  },
  {
   "cell_type": "code",
   "execution_count": 1,
   "metadata": {},
   "outputs": [],
   "source": [
    "import pandas as pd\n",
    "from sklearn.pipeline import Pipeline, make_pipeline\n",
    "from sklearn.impute import SimpleImputer\n",
    "from sklearn.preprocessing import StandardScaler, OneHotEncoder\n",
    "from sklearn.compose import ColumnTransformer\n",
    "from sklearn.linear_model import LinearRegression\n",
    "from sklearn.model_selection import train_test_split, GridSearchCV, cross_validate\n",
    "from sklearn import metrics\n",
    "\n",
    "# DL data\n",
    "url = 'https://github.com/LeDataSciFi/lectures-spr2020/blob/master/assignment_data/Fannie_Mae_Plus_Data.gzip?raw=true'\n",
    "fannie_mae = pd.read_csv(url,compression='gzip') \n",
    "\n",
    "# separate out y var\n",
    "y = fannie_mae['Original_Interest_Rate']\n",
    "fannie_mae.drop('Original_Interest_Rate',axis=1,inplace=True)"
   ]
  },
  {
   "cell_type": "code",
   "execution_count": 45,
   "metadata": {},
   "outputs": [
    {
     "data": {
      "text/plain": [
       "Loan_Identifier                            float64\n",
       "Origination_Channel                         object\n",
       "Seller_Name                                 object\n",
       "Original_UPB                               float64\n",
       "Original_Loan_Term                         float64\n",
       "Original_LTV_(OLTV)                        float64\n",
       "Original_Combined_LTV_(CLTV)               float64\n",
       "Number_of_Borrowers                        float64\n",
       "Original_Debt_to_Income_Ratio              float64\n",
       "Borrower_Credit_Score_at_Origination       float64\n",
       "Loan_purpose                                object\n",
       "Property_type                               object\n",
       "Number_of_units                            float64\n",
       "Occupancy_type                              object\n",
       "Property_state                              object\n",
       "Zip_code_short                             float64\n",
       "Primary_mortgage_insurance_percent         float64\n",
       "Product_type                                object\n",
       "Co-borrower_credit_score_at_origination    float64\n",
       "Mortgage_Insurance_type                    float64\n",
       "Origination_Date                            object\n",
       "First_payment_date                          object\n",
       "First_time_home_buyer_indicator             object\n",
       "UNRATE                                     float64\n",
       "CPIAUCSL                                   float64\n",
       "Qdate                                       object\n",
       "rGDP                                       float64\n",
       "TCMR                                       float64\n",
       "POILWTIUSDM                                float64\n",
       "TTLCONS                                    float64\n",
       "DEXUSEU                                    float64\n",
       "BOPGSTB                                    float64\n",
       "GOLDAMGBD228NLBM                           float64\n",
       "CSUSHPISA                                  float64\n",
       "MSPUS                                      float64\n",
       "Coborrower_credit_score_at_origination     float64\n",
       "dtype: object"
      ]
     },
     "execution_count": 45,
     "metadata": {},
     "output_type": "execute_result"
    }
   ],
   "source": [
    "fannie_mae.dtypes\n",
    "#fannie_mae['Loan_purpose']"
   ]
  },
  {
   "cell_type": "code",
   "execution_count": 71,
   "metadata": {},
   "outputs": [],
   "source": [
    "num_features = ['Original_UPB', 'Original_Loan_Term','Original_Debt_to_Income_Ratio', 'UNRATE', 'rGDP',\n",
    "               'CPIAUCSL', 'Original_LTV_(OLTV)','TCMR',]\n",
    "num_transformer = Pipeline(steps=[\n",
    "    ('imputer', SimpleImputer(strategy='median')),\n",
    "    ('scaler', StandardScaler())])"
   ]
  },
  {
   "cell_type": "code",
   "execution_count": 119,
   "metadata": {},
   "outputs": [],
   "source": [
    "cat_features = ['Property_type', 'Loan_purpose', 'Property_state','Product_type']\n",
    "cat_transformer = Pipeline(steps=[\n",
    "    ('imputer', SimpleImputer(strategy='constant', fill_value='missing')),\n",
    "    ('onehot', OneHotEncoder(handle_unknown='ignore',sparse=False))])"
   ]
  },
  {
   "cell_type": "code",
   "execution_count": 120,
   "metadata": {},
   "outputs": [],
   "source": [
    "preprocessor = ColumnTransformer(\n",
    "    transformers=[\n",
    "        ('num', num_transformer, num_features),\n",
    "        ('cat', cat_transformer, cat_features)])"
   ]
  },
  {
   "cell_type": "code",
   "execution_count": 121,
   "metadata": {},
   "outputs": [
    {
     "data": {
      "text/plain": [
       "Pipeline(memory=None,\n",
       "         steps=[('columntransformer',\n",
       "                 ColumnTransformer(n_jobs=None, remainder='drop',\n",
       "                                   sparse_threshold=0.3,\n",
       "                                   transformer_weights=None,\n",
       "                                   transformers=[('num',\n",
       "                                                  Pipeline(memory=None,\n",
       "                                                           steps=[('imputer',\n",
       "                                                                   SimpleImputer(add_indicator=False,\n",
       "                                                                                 copy=True,\n",
       "                                                                                 fill_value=None,\n",
       "                                                                                 missing_values=nan,\n",
       "                                                                                 strategy='median',\n",
       "                                                                                 verbose=0)),\n",
       "                                                                  ('scaler',\n",
       "                                                                   StandardScaler(copy=True,\n",
       "                                                                                  with...\n",
       "                                                                   OneHotEncoder(categorical_features=None,\n",
       "                                                                                 categories=None,\n",
       "                                                                                 drop=None,\n",
       "                                                                                 dtype=<class 'numpy.float64'>,\n",
       "                                                                                 handle_unknown='ignore',\n",
       "                                                                                 n_values=None,\n",
       "                                                                                 sparse=False))],\n",
       "                                                           verbose=False),\n",
       "                                                  ['Property_type',\n",
       "                                                   'Loan_purpose',\n",
       "                                                   'Property_state',\n",
       "                                                   'Product_type'])],\n",
       "                                   verbose=False)),\n",
       "                ('linearregression',\n",
       "                 LinearRegression(copy_X=True, fit_intercept=True, n_jobs=None,\n",
       "                                  normalize=False))],\n",
       "         verbose=False)"
      ]
     },
     "execution_count": 121,
     "metadata": {},
     "output_type": "execute_result"
    }
   ],
   "source": [
    "# combine preprocessor with estimator\n",
    "pipe_reg = make_pipeline(preprocessor,\n",
    "                        LinearRegression())\n",
    "pipe_reg # look at it"
   ]
  },
  {
   "cell_type": "code",
   "execution_count": 122,
   "metadata": {},
   "outputs": [],
   "source": [
    "param_grid = {\n",
    "             'columntransformer__num__imputer__strategy': ['mean', 'median','most_frequent']\n",
    "             }"
   ]
  },
  {
   "cell_type": "code",
   "execution_count": 123,
   "metadata": {},
   "outputs": [],
   "source": [
    "grid_search = GridSearchCV(pipe_reg, param_grid, cv=5,scoring='r2')\n",
    "grid_search.fit(fannie_mae, y)\n",
    "# grid_search.best_params_                   # examined this\n",
    "opt_model_reg = grid_search.best_estimator_  # save best model to an actual model object"
   ]
  },
  {
   "cell_type": "code",
   "execution_count": 124,
   "metadata": {},
   "outputs": [
    {
     "name": "stdout",
     "output_type": "stream",
     "text": [
      "In sample:           0.9\n"
     ]
    },
    {
     "name": "stderr",
     "output_type": "stream",
     "text": [
      "/Users/mikestragapede/opt/anaconda3/lib/python3.7/site-packages/sklearn/model_selection/_split.py:1978: FutureWarning: The default value of cv will change from 3 to 5 in version 0.22. Specify it explicitly to silence this warning.\n",
      "  warnings.warn(CV_WARNING, FutureWarning)\n"
     ]
    },
    {
     "name": "stdout",
     "output_type": "stream",
     "text": [
      "Validation fold avg: 0.645\n"
     ]
    }
   ],
   "source": [
    "# how does this do insample?\n",
    "print(\"In sample:          \",metrics.r2_score(y,\n",
    "                                              opt_model_reg.predict(fannie_mae)\n",
    "                                             ).round(3)) \n",
    "\n",
    "# lol this model generates negative R2 in the CV folds\n",
    "print(\"Validation fold avg:\",cross_validate(opt_model_reg,\n",
    "                                            fannie_mae, y,\n",
    "                                            scoring=['neg_mean_squared_error','r2']\n",
    "                                           )\n",
    "                                           ['test_r2'].mean().round(3))"
   ]
  },
  {
   "cell_type": "code",
   "execution_count": 125,
   "metadata": {},
   "outputs": [
    {
     "name": "stderr",
     "output_type": "stream",
     "text": [
      "/Users/mikestragapede/opt/anaconda3/lib/python3.7/site-packages/sklearn/model_selection/_split.py:1978: FutureWarning: The default value of cv will change from 3 to 5 in version 0.22. Specify it explicitly to silence this warning.\n",
      "  warnings.warn(CV_WARNING, FutureWarning)\n"
     ]
    },
    {
     "data": {
      "text/plain": [
       "0.6448398086144734"
      ]
     },
     "execution_count": 125,
     "metadata": {},
     "output_type": "execute_result"
    }
   ],
   "source": [
    "cross_validate(pipe_reg,fannie_mae,y,scoring='r2')['test_score'].mean()"
   ]
  },
  {
   "cell_type": "markdown",
   "metadata": {},
   "source": [
    "# Exercise 1: Add 5 new continuous variables to your pipeline and see how R2 changes"
   ]
  },
  {
   "cell_type": "markdown",
   "metadata": {},
   "source": [
    "# Exercise 2: Add 2 Categorical variables (on top of 5 new continuous variables) and see how R2 changes"
   ]
  },
  {
   "cell_type": "code",
   "execution_count": null,
   "metadata": {},
   "outputs": [],
   "source": [
    "# Exercise 3: "
   ]
  }
 ],
 "metadata": {
  "kernelspec": {
   "display_name": "Python 3",
   "language": "python",
   "name": "python3"
  },
  "language_info": {
   "codemirror_mode": {
    "name": "ipython",
    "version": 3
   },
   "file_extension": ".py",
   "mimetype": "text/x-python",
   "name": "python",
   "nbconvert_exporter": "python",
   "pygments_lexer": "ipython3",
   "version": "3.7.4"
  }
 },
 "nbformat": 4,
 "nbformat_minor": 2
}
