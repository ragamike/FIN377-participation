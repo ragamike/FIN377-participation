{
 "cells": [
  {
   "cell_type": "code",
   "execution_count": 11,
   "metadata": {},
   "outputs": [
    {
     "data": {
      "text/plain": [
       "{'fit_time': array([0.00939322, 0.00108123, 0.00123191, 0.00112987, 0.00109386]),\n",
       " 'score_time': array([0.00051379, 0.00032163, 0.00030732, 0.00035477, 0.00036001]),\n",
       " 'test_score': array([0.96666667, 0.96666667, 0.96666667, 0.93333333, 1.        ])}"
      ]
     },
     "execution_count": 11,
     "metadata": {},
     "output_type": "execute_result"
    }
   ],
   "source": [
    "from sklearn.datasets import load_iris\n",
    "from sklearn.pipeline import make_pipeline\n",
    "from sklearn import preprocessing\n",
    "from sklearn.model_selection import cross_validate\n",
    "from sklearn import svm\n",
    "import pandas as pd\n",
    "from sklearn.impute import SimpleImputer\n",
    "iris = load_iris() # data\n",
    "\n",
    "# set up the pipeline, which will, given a set of observations \n",
    "# 1. fit and apply these steps to the training fold\n",
    "# 2. in the testing fold, apply the transform and model to predict (no estimation)\n",
    "\n",
    "classifier_pipeline = make_pipeline(\n",
    "                                    preprocessing.StandardScaler(),  # clean the data\n",
    "                                    svm.SVC(C=1)                     # model\n",
    "                                    )\n",
    "\n",
    "cross_validate(classifier_pipeline, iris.data, iris.target, cv=5)"
   ]
  },
  {
   "cell_type": "code",
   "execution_count": 6,
   "metadata": {},
   "outputs": [
    {
     "data": {
      "text/plain": [
       "{'fit_time': array([0.00282097, 0.00207782, 0.00100088, 0.00236607, 0.00102186]),\n",
       " 'score_time': array([0.00062394, 0.00036025, 0.00036907, 0.00048399, 0.00043392]),\n",
       " 'test_score': array([0.96666667, 0.96666667, 0.96666667, 0.93333333, 1.        ])}"
      ]
     },
     "execution_count": 6,
     "metadata": {},
     "output_type": "execute_result"
    }
   ],
   "source": [
    "# question 1: try this with a Nearest Neighbors Classifier (5 min)\n",
    "\n",
    "from sklearn.neighbors import KNeighborsClassifier\n",
    "knn_pipe = make_pipeline(\n",
    "                        preprocessing.StandardScaler(),  # clean the data\n",
    "                        KNeighborsClassifier()           # model\n",
    "                        )\n",
    "\n",
    "cross_validate(classifier_pipeline, iris.data, iris.target, cv=5)"
   ]
  },
  {
   "cell_type": "code",
   "execution_count": 12,
   "metadata": {},
   "outputs": [
    {
     "data": {
      "text/plain": [
       "{'fit_time': array([0.00319219, 0.0026679 , 0.00444913, 0.00272608, 0.00356293]),\n",
       " 'score_time': array([0.0021019 , 0.00201702, 0.00834894, 0.00208402, 0.00197792]),\n",
       " 'test_score': array([0.9       , 0.96666667, 0.9       , 0.96666667, 1.        ])}"
      ]
     },
     "execution_count": 12,
     "metadata": {},
     "output_type": "execute_result"
    }
   ],
   "source": [
    "iris2 = load_iris()\n",
    "X2 = pd.DataFrame(iris2.data)\n",
    "X2.columns = [1,2,3,4]\n",
    "X2[2] = X2[2].sample(frac=0.5,random_state=14)\n",
    "X2[2].describe()\n",
    "iris2.data = X2\n",
    "\n",
    "# print the scores using IRIS2.data (not iris.data)\n",
    "# this produces an error because of the missing values!\n",
    "# cross_validate(knn_pipe, iris2.data, iris.target, cv=5)\n",
    "\n",
    "# so add an imputation step to the pipeline! (5 min, use lecture page!)\n",
    "knn_pipe2 = make_pipeline(\n",
    "                        SimpleImputer(strategy = 'mean'),\n",
    "                        preprocessing.StandardScaler(),\n",
    "                        KNeighborsClassifier()\n",
    "                        )\n",
    "cross_validate(knn_pipe2, iris2.data, iris.target, cv=5)"
   ]
  },
  {
   "cell_type": "markdown",
   "metadata": {},
   "source": [
    "# Optimize a model - here, KNN, with `GridSearchCV`"
   ]
  },
  {
   "cell_type": "code",
   "execution_count": 13,
   "metadata": {},
   "outputs": [
    {
     "data": {
      "text/plain": [
       "Pipeline(memory=None,\n",
       "         steps=[('simpleimputer',\n",
       "                 SimpleImputer(add_indicator=False, copy=True, fill_value=None,\n",
       "                               missing_values=nan, strategy='mean',\n",
       "                               verbose=0)),\n",
       "                ('standardscaler',\n",
       "                 StandardScaler(copy=True, with_mean=True, with_std=True)),\n",
       "                ('kneighborsclassifier',\n",
       "                 KNeighborsClassifier(algorithm='auto', leaf_size=30,\n",
       "                                      metric='minkowski', metric_params=None,\n",
       "                                      n_jobs=None, n_neighbors=5, p=2,\n",
       "                                      weights='uniform'))],\n",
       "         verbose=False)"
      ]
     },
     "execution_count": 13,
     "metadata": {},
     "output_type": "execute_result"
    }
   ],
   "source": [
    "knn_pipe2"
   ]
  },
  {
   "cell_type": "code",
   "execution_count": 36,
   "metadata": {},
   "outputs": [
    {
     "name": "stderr",
     "output_type": "stream",
     "text": [
      "/Users/mikestragapede/opt/anaconda3/lib/python3.7/site-packages/sklearn/model_selection/_split.py:1978: FutureWarning: The default value of cv will change from 3 to 5 in version 0.22. Specify it explicitly to silence this warning.\n",
      "  warnings.warn(CV_WARNING, FutureWarning)\n",
      "/Users/mikestragapede/opt/anaconda3/lib/python3.7/site-packages/sklearn/model_selection/_search.py:814: DeprecationWarning: The default of the `iid` parameter will change from True to False in version 0.22 and will be removed in 0.24. This will change numeric results when test-set sizes are unequal.\n",
      "  DeprecationWarning)\n"
     ]
    },
    {
     "data": {
      "text/plain": [
       "{'kneighborsclassifier__n_neighbors': 9}"
      ]
     },
     "execution_count": 36,
     "metadata": {},
     "output_type": "execute_result"
    }
   ],
   "source": [
    "# grid search will let you specify all the parameters of the model\n",
    "# you want to tweak, and the values you want to try\n",
    "\n",
    "from sklearn.model_selection import GridSearchCV\n",
    "\n",
    "# set up parameter grid to try\n",
    "# the parameter grid is a dictionary where key:value pairs are built like:\n",
    "#     stepName<two underlines>paramName : [list of settings to try]\n",
    "param_grid = {'kneighborsclassifier__n_neighbors':[1,5,6,7,8,9,10]}\n",
    "\n",
    "# like a normal estimator, this has not yet been applied to any data\n",
    "grid = GridSearchCV(knn_pipe2, param_grid=param_grid)\n",
    "grid.fit(iris2.data, iris.target)\n",
    "grid.best_params_\n",
    "\n",
    "# now save that pipeline as a model object!\n",
    "optimal_knn_model = grid.best_estimator_"
   ]
  },
  {
   "cell_type": "code",
   "execution_count": 37,
   "metadata": {},
   "outputs": [
    {
     "name": "stderr",
     "output_type": "stream",
     "text": [
      "/Users/mikestragapede/opt/anaconda3/lib/python3.7/site-packages/sklearn/model_selection/_split.py:1978: FutureWarning: The default value of cv will change from 3 to 5 in version 0.22. Specify it explicitly to silence this warning.\n",
      "  warnings.warn(CV_WARNING, FutureWarning)\n",
      "/Users/mikestragapede/opt/anaconda3/lib/python3.7/site-packages/sklearn/model_selection/_search.py:814: DeprecationWarning: The default of the `iid` parameter will change from True to False in version 0.22 and will be removed in 0.24. This will change numeric results when test-set sizes are unequal.\n",
      "  DeprecationWarning)\n"
     ]
    },
    {
     "data": {
      "text/plain": [
       "{'kneighborsclassifier__n_neighbors': 9}"
      ]
     },
     "execution_count": 37,
     "metadata": {},
     "output_type": "execute_result"
    }
   ],
   "source": [
    "# grid search will let you specify all the parameters of the model\n",
    "# you want to tweak, and the values you want to try\n",
    "\n",
    "from sklearn.model_selection import GridSearchCV\n",
    "\n",
    "# set up parameter grid to try\n",
    "# the parameter grid is a dictionary where key:value pairs are built like:\n",
    "#     stepName<two underlines>paramName : [list of settings to try]\n",
    "param_grid = {'kneighborsclassifier__n_neighbors':[1,5,6,7,8,9,10]}\n",
    "\n",
    "# like a normal estimator, this has not yet been applied to any data\n",
    "grid = GridSearchCV(knn_pipe2, param_grid=param_grid)\n",
    "grid.fit(iris2.data, iris.target)\n",
    "grid.best_params_"
   ]
  },
  {
   "cell_type": "code",
   "execution_count": 38,
   "metadata": {},
   "outputs": [
    {
     "name": "stderr",
     "output_type": "stream",
     "text": [
      "/Users/mikestragapede/opt/anaconda3/lib/python3.7/site-packages/sklearn/model_selection/_split.py:1978: FutureWarning: The default value of cv will change from 3 to 5 in version 0.22. Specify it explicitly to silence this warning.\n",
      "  warnings.warn(CV_WARNING, FutureWarning)\n",
      "/Users/mikestragapede/opt/anaconda3/lib/python3.7/site-packages/sklearn/model_selection/_search.py:814: DeprecationWarning: The default of the `iid` parameter will change from True to False in version 0.22 and will be removed in 0.24. This will change numeric results when test-set sizes are unequal.\n",
      "  DeprecationWarning)\n"
     ]
    },
    {
     "data": {
      "text/plain": [
       "{'kneighborsclassifier__n_neighbors': 9,\n",
       " 'standardscaler__with_mean': 'True',\n",
       " 'standardscaler__with_std': 'True'}"
      ]
     },
     "execution_count": 38,
     "metadata": {},
     "output_type": "execute_result"
    }
   ],
   "source": [
    "#add to the param grid to see if we should change these two params: StandardScaler(with_mean = True, with_std = True)\n",
    "# set up parameter grid to try\n",
    "# the parameter grid is a dictionary where key:value pairs are built like:\n",
    "#     stepName<two underlines>paramName : [list of settings to try]\n",
    "param_grid = {'kneighborsclassifier__n_neighbors':[1,5,6,7,8,9,10],\n",
    "             'standardscaler__with_mean':['True','False'],\n",
    "             'standardscaler__with_std':['True','False']}\n",
    "\n",
    "# like a normal estimator, this has not yet been applied to any data\n",
    "grid = GridSearchCV(knn_pipe2, param_grid=param_grid)\n",
    "grid.fit(iris2.data, iris.target)\n",
    "grid.best_params_"
   ]
  },
  {
   "cell_type": "code",
   "execution_count": 39,
   "metadata": {},
   "outputs": [
    {
     "data": {
      "text/plain": [
       "{'mean_fit_time': array([0.00489036, 0.00489322, 0.00326983, 0.00289202, 0.00364367,\n",
       "        0.00382106, 0.00374603, 0.00849589, 0.00300781, 0.00369406,\n",
       "        0.00279562, 0.00329105, 0.00504994, 0.00359186, 0.00498708,\n",
       "        0.00387859, 0.00458566, 0.00405518, 0.00290116, 0.00337807,\n",
       "        0.00313147, 0.00366402, 0.00368063, 0.00300686, 0.00311375,\n",
       "        0.00272711, 0.00444166, 0.00438428]),\n",
       " 'mean_score_time': array([0.00401529, 0.00541004, 0.00340104, 0.00312527, 0.00299366,\n",
       "        0.00279435, 0.0026354 , 0.00377973, 0.00290672, 0.00581098,\n",
       "        0.00263739, 0.00323002, 0.00443935, 0.00388972, 0.00273259,\n",
       "        0.00320021, 0.00276534, 0.0032057 , 0.0037481 , 0.0033706 ,\n",
       "        0.00329725, 0.00354226, 0.00295377, 0.00373681, 0.00344165,\n",
       "        0.00305764, 0.00312432, 0.00284743]),\n",
       " 'mean_test_score': array([0.92666667, 0.92666667, 0.92666667, 0.92666667, 0.92      ,\n",
       "        0.92      , 0.92      , 0.92      , 0.93333333, 0.93333333,\n",
       "        0.93333333, 0.93333333, 0.93333333, 0.93333333, 0.93333333,\n",
       "        0.93333333, 0.93333333, 0.93333333, 0.93333333, 0.93333333,\n",
       "        0.94      , 0.94      , 0.94      , 0.94      , 0.94      ,\n",
       "        0.94      , 0.94      , 0.94      ]),\n",
       " 'param_kneighborsclassifier__n_neighbors': masked_array(data=[1, 1, 1, 1, 5, 5, 5, 5, 6, 6, 6, 6, 7, 7, 7, 7, 8, 8,\n",
       "                    8, 8, 9, 9, 9, 9, 10, 10, 10, 10],\n",
       "              mask=[False, False, False, False, False, False, False, False,\n",
       "                    False, False, False, False, False, False, False, False,\n",
       "                    False, False, False, False, False, False, False, False,\n",
       "                    False, False, False, False],\n",
       "        fill_value='?',\n",
       "             dtype=object),\n",
       " 'param_standardscaler__with_mean': masked_array(data=['True', 'True', 'False', 'False', 'True', 'True',\n",
       "                    'False', 'False', 'True', 'True', 'False', 'False',\n",
       "                    'True', 'True', 'False', 'False', 'True', 'True',\n",
       "                    'False', 'False', 'True', 'True', 'False', 'False',\n",
       "                    'True', 'True', 'False', 'False'],\n",
       "              mask=[False, False, False, False, False, False, False, False,\n",
       "                    False, False, False, False, False, False, False, False,\n",
       "                    False, False, False, False, False, False, False, False,\n",
       "                    False, False, False, False],\n",
       "        fill_value='?',\n",
       "             dtype=object),\n",
       " 'param_standardscaler__with_std': masked_array(data=['True', 'False', 'True', 'False', 'True', 'False',\n",
       "                    'True', 'False', 'True', 'False', 'True', 'False',\n",
       "                    'True', 'False', 'True', 'False', 'True', 'False',\n",
       "                    'True', 'False', 'True', 'False', 'True', 'False',\n",
       "                    'True', 'False', 'True', 'False'],\n",
       "              mask=[False, False, False, False, False, False, False, False,\n",
       "                    False, False, False, False, False, False, False, False,\n",
       "                    False, False, False, False, False, False, False, False,\n",
       "                    False, False, False, False],\n",
       "        fill_value='?',\n",
       "             dtype=object),\n",
       " 'params': [{'kneighborsclassifier__n_neighbors': 1,\n",
       "   'standardscaler__with_mean': 'True',\n",
       "   'standardscaler__with_std': 'True'},\n",
       "  {'kneighborsclassifier__n_neighbors': 1,\n",
       "   'standardscaler__with_mean': 'True',\n",
       "   'standardscaler__with_std': 'False'},\n",
       "  {'kneighborsclassifier__n_neighbors': 1,\n",
       "   'standardscaler__with_mean': 'False',\n",
       "   'standardscaler__with_std': 'True'},\n",
       "  {'kneighborsclassifier__n_neighbors': 1,\n",
       "   'standardscaler__with_mean': 'False',\n",
       "   'standardscaler__with_std': 'False'},\n",
       "  {'kneighborsclassifier__n_neighbors': 5,\n",
       "   'standardscaler__with_mean': 'True',\n",
       "   'standardscaler__with_std': 'True'},\n",
       "  {'kneighborsclassifier__n_neighbors': 5,\n",
       "   'standardscaler__with_mean': 'True',\n",
       "   'standardscaler__with_std': 'False'},\n",
       "  {'kneighborsclassifier__n_neighbors': 5,\n",
       "   'standardscaler__with_mean': 'False',\n",
       "   'standardscaler__with_std': 'True'},\n",
       "  {'kneighborsclassifier__n_neighbors': 5,\n",
       "   'standardscaler__with_mean': 'False',\n",
       "   'standardscaler__with_std': 'False'},\n",
       "  {'kneighborsclassifier__n_neighbors': 6,\n",
       "   'standardscaler__with_mean': 'True',\n",
       "   'standardscaler__with_std': 'True'},\n",
       "  {'kneighborsclassifier__n_neighbors': 6,\n",
       "   'standardscaler__with_mean': 'True',\n",
       "   'standardscaler__with_std': 'False'},\n",
       "  {'kneighborsclassifier__n_neighbors': 6,\n",
       "   'standardscaler__with_mean': 'False',\n",
       "   'standardscaler__with_std': 'True'},\n",
       "  {'kneighborsclassifier__n_neighbors': 6,\n",
       "   'standardscaler__with_mean': 'False',\n",
       "   'standardscaler__with_std': 'False'},\n",
       "  {'kneighborsclassifier__n_neighbors': 7,\n",
       "   'standardscaler__with_mean': 'True',\n",
       "   'standardscaler__with_std': 'True'},\n",
       "  {'kneighborsclassifier__n_neighbors': 7,\n",
       "   'standardscaler__with_mean': 'True',\n",
       "   'standardscaler__with_std': 'False'},\n",
       "  {'kneighborsclassifier__n_neighbors': 7,\n",
       "   'standardscaler__with_mean': 'False',\n",
       "   'standardscaler__with_std': 'True'},\n",
       "  {'kneighborsclassifier__n_neighbors': 7,\n",
       "   'standardscaler__with_mean': 'False',\n",
       "   'standardscaler__with_std': 'False'},\n",
       "  {'kneighborsclassifier__n_neighbors': 8,\n",
       "   'standardscaler__with_mean': 'True',\n",
       "   'standardscaler__with_std': 'True'},\n",
       "  {'kneighborsclassifier__n_neighbors': 8,\n",
       "   'standardscaler__with_mean': 'True',\n",
       "   'standardscaler__with_std': 'False'},\n",
       "  {'kneighborsclassifier__n_neighbors': 8,\n",
       "   'standardscaler__with_mean': 'False',\n",
       "   'standardscaler__with_std': 'True'},\n",
       "  {'kneighborsclassifier__n_neighbors': 8,\n",
       "   'standardscaler__with_mean': 'False',\n",
       "   'standardscaler__with_std': 'False'},\n",
       "  {'kneighborsclassifier__n_neighbors': 9,\n",
       "   'standardscaler__with_mean': 'True',\n",
       "   'standardscaler__with_std': 'True'},\n",
       "  {'kneighborsclassifier__n_neighbors': 9,\n",
       "   'standardscaler__with_mean': 'True',\n",
       "   'standardscaler__with_std': 'False'},\n",
       "  {'kneighborsclassifier__n_neighbors': 9,\n",
       "   'standardscaler__with_mean': 'False',\n",
       "   'standardscaler__with_std': 'True'},\n",
       "  {'kneighborsclassifier__n_neighbors': 9,\n",
       "   'standardscaler__with_mean': 'False',\n",
       "   'standardscaler__with_std': 'False'},\n",
       "  {'kneighborsclassifier__n_neighbors': 10,\n",
       "   'standardscaler__with_mean': 'True',\n",
       "   'standardscaler__with_std': 'True'},\n",
       "  {'kneighborsclassifier__n_neighbors': 10,\n",
       "   'standardscaler__with_mean': 'True',\n",
       "   'standardscaler__with_std': 'False'},\n",
       "  {'kneighborsclassifier__n_neighbors': 10,\n",
       "   'standardscaler__with_mean': 'False',\n",
       "   'standardscaler__with_std': 'True'},\n",
       "  {'kneighborsclassifier__n_neighbors': 10,\n",
       "   'standardscaler__with_mean': 'False',\n",
       "   'standardscaler__with_std': 'False'}],\n",
       " 'rank_test_score': array([21, 21, 21, 21, 25, 25, 25, 25,  9,  9,  9,  9,  9,  9,  9,  9,  9,\n",
       "         9,  9,  9,  1,  1,  1,  1,  1,  1,  1,  1], dtype=int32),\n",
       " 'split0_test_score': array([0.94117647, 0.94117647, 0.94117647, 0.94117647, 0.90196078,\n",
       "        0.90196078, 0.90196078, 0.90196078, 0.90196078, 0.90196078,\n",
       "        0.90196078, 0.90196078, 0.90196078, 0.90196078, 0.90196078,\n",
       "        0.90196078, 0.90196078, 0.90196078, 0.90196078, 0.90196078,\n",
       "        0.92156863, 0.92156863, 0.92156863, 0.92156863, 0.92156863,\n",
       "        0.92156863, 0.92156863, 0.92156863]),\n",
       " 'split1_test_score': array([0.90196078, 0.90196078, 0.90196078, 0.90196078, 0.88235294,\n",
       "        0.88235294, 0.88235294, 0.88235294, 0.92156863, 0.92156863,\n",
       "        0.92156863, 0.92156863, 0.92156863, 0.92156863, 0.92156863,\n",
       "        0.92156863, 0.94117647, 0.94117647, 0.94117647, 0.94117647,\n",
       "        0.94117647, 0.94117647, 0.94117647, 0.94117647, 0.94117647,\n",
       "        0.94117647, 0.94117647, 0.94117647]),\n",
       " 'split2_test_score': array([0.9375    , 0.9375    , 0.9375    , 0.9375    , 0.97916667,\n",
       "        0.97916667, 0.97916667, 0.97916667, 0.97916667, 0.97916667,\n",
       "        0.97916667, 0.97916667, 0.97916667, 0.97916667, 0.97916667,\n",
       "        0.97916667, 0.95833333, 0.95833333, 0.95833333, 0.95833333,\n",
       "        0.95833333, 0.95833333, 0.95833333, 0.95833333, 0.95833333,\n",
       "        0.95833333, 0.95833333, 0.95833333]),\n",
       " 'std_fit_time': array([0.00074019, 0.0015028 , 0.00042688, 0.00015352, 0.00083843,\n",
       "        0.00120501, 0.0011082 , 0.00685843, 0.00031986, 0.00068827,\n",
       "        0.00011442, 0.00061784, 0.00333454, 0.00087826, 0.00185139,\n",
       "        0.00035163, 0.00044939, 0.00065707, 0.00036407, 0.00065494,\n",
       "        0.00034815, 0.00028585, 0.00028587, 0.00035015, 0.00039038,\n",
       "        0.00019918, 0.00218329, 0.00068299]),\n",
       " 'std_score_time': array([9.74002632e-04, 2.77050170e-03, 7.80783997e-04, 7.78249039e-04,\n",
       "        6.17228276e-04, 3.91675908e-04, 2.00442432e-04, 4.20511681e-04,\n",
       "        2.13253421e-04, 2.24469998e-03, 2.88520961e-04, 5.92330614e-04,\n",
       "        1.17319923e-03, 1.19442966e-03, 2.86110529e-04, 7.81184853e-04,\n",
       "        3.15391305e-04, 7.67519395e-04, 5.58518691e-04, 6.23479562e-04,\n",
       "        1.55213893e-04, 1.07236561e-03, 4.41943292e-04, 3.80366256e-04,\n",
       "        6.51612511e-05, 4.05239133e-04, 4.73062850e-04, 4.81323161e-04]),\n",
       " 'std_test_score': array([0.01779513, 0.01779513, 0.01779513, 0.01779513, 0.04138532,\n",
       "        0.04138532, 0.04138532, 0.04138532, 0.03246416, 0.03246416,\n",
       "        0.03246416, 0.03246416, 0.03246416, 0.03246416, 0.03246416,\n",
       "        0.03246416, 0.02357023, 0.02357023, 0.02357023, 0.02357023,\n",
       "        0.0149509 , 0.0149509 , 0.0149509 , 0.0149509 , 0.0149509 ,\n",
       "        0.0149509 , 0.0149509 , 0.0149509 ])}"
      ]
     },
     "execution_count": 39,
     "metadata": {},
     "output_type": "execute_result"
    }
   ],
   "source": [
    "grid.cv_results_ #it did 28 different tests to find the best parameters"
   ]
  },
  {
   "cell_type": "markdown",
   "metadata": {},
   "source": [
    "# Some Post Optimization Diagnostics"
   ]
  },
  {
   "cell_type": "code",
   "execution_count": 40,
   "metadata": {},
   "outputs": [
    {
     "data": {
      "text/plain": [
       "{'fit_time': array([0.00467706, 0.00498295, 0.01372099, 0.00869918, 0.00310612]),\n",
       " 'score_time': array([0.01202202, 0.00378227, 0.01355386, 0.00211596, 0.00201488]),\n",
       " 'test_score': array([0.93333333, 0.9       , 0.93333333, 0.93333333, 1.        ])}"
      ]
     },
     "execution_count": 40,
     "metadata": {},
     "output_type": "execute_result"
    }
   ],
   "source": [
    "#print k-fold scoring like before\n",
    "cross_validate(optimal_knn_model, iris2.data, iris.target, cv = 5)"
   ]
  },
  {
   "cell_type": "code",
   "execution_count": 41,
   "metadata": {},
   "outputs": [
    {
     "name": "stdout",
     "output_type": "stream",
     "text": [
      "              precision    recall  f1-score   support\n",
      "\n",
      "      setosa       1.00      1.00      1.00        27\n",
      "  versicolor       0.93      0.96      0.94        26\n",
      "   virginica       0.95      0.91      0.93        22\n",
      "\n",
      "    accuracy                           0.96        75\n",
      "   macro avg       0.96      0.96      0.96        75\n",
      "weighted avg       0.96      0.96      0.96        75\n",
      "\n"
     ]
    }
   ],
   "source": [
    "# print k-fold scoring (like before)\n",
    "cross_validate(optimal_knn_model, iris2.data, iris.target, cv=5)\n",
    "\n",
    "###########################################################\n",
    "# use classification_report to see which types of Y values \n",
    "# your prediction performs better/worse on\n",
    "###########################################################\n",
    "\n",
    "# to use class_report, we need some predicted y values, so\n",
    "# make a fold and generate predicted values\n",
    "\n",
    "from sklearn.model_selection import train_test_split\n",
    "Xtrain, Xtest, ytrain, ytest = train_test_split(iris2.data, iris.target, random_state=9,train_size=.5)\n",
    "y_pred = optimal_knn_model.fit(Xtrain, ytrain).predict(Xtest)\n",
    "\n",
    "from sklearn.metrics import classification_report\n",
    "print(classification_report(ytest,\n",
    "                            y_pred,\n",
    "                            target_names=iris.target_names)) "
   ]
  },
  {
   "cell_type": "code",
   "execution_count": null,
   "metadata": {},
   "outputs": [],
   "source": [
    "#pipeline does data validation without data leakage, you'll get predictions that can generalize outside the sample\n",
    "#computed by mean and did a standard deviation (there are more options)"
   ]
  },
  {
   "cell_type": "code",
   "execution_count": 42,
   "metadata": {},
   "outputs": [
    {
     "ename": "ImportError",
     "evalue": "cannot import name 'plot_confusion_matrix' from 'sklearn.metrics' (/Users/mikestragapede/opt/anaconda3/lib/python3.7/site-packages/sklearn/metrics/__init__.py)",
     "output_type": "error",
     "traceback": [
      "\u001b[0;31m---------------------------------------------------------------------------\u001b[0m",
      "\u001b[0;31mImportError\u001b[0m                               Traceback (most recent call last)",
      "\u001b[0;32m<ipython-input-42-302d249cb2bc>\u001b[0m in \u001b[0;36m<module>\u001b[0;34m()\u001b[0m\n\u001b[1;32m      3\u001b[0m \u001b[0;31m#################################################################\u001b[0m\u001b[0;34m\u001b[0m\u001b[0;34m\u001b[0m\u001b[0;34m\u001b[0m\u001b[0m\n\u001b[1;32m      4\u001b[0m \u001b[0;34m\u001b[0m\u001b[0m\n\u001b[0;32m----> 5\u001b[0;31m \u001b[0;32mfrom\u001b[0m \u001b[0msklearn\u001b[0m\u001b[0;34m.\u001b[0m\u001b[0mmetrics\u001b[0m \u001b[0;32mimport\u001b[0m \u001b[0mplot_confusion_matrix\u001b[0m\u001b[0;34m\u001b[0m\u001b[0;34m\u001b[0m\u001b[0m\n\u001b[0m\u001b[1;32m      6\u001b[0m \u001b[0;32mimport\u001b[0m \u001b[0mmatplotlib\u001b[0m\u001b[0;34m.\u001b[0m\u001b[0mpyplot\u001b[0m \u001b[0;32mas\u001b[0m \u001b[0mplt\u001b[0m\u001b[0;34m\u001b[0m\u001b[0;34m\u001b[0m\u001b[0m\n\u001b[1;32m      7\u001b[0m \u001b[0;34m\u001b[0m\u001b[0m\n",
      "\u001b[0;31mImportError\u001b[0m: cannot import name 'plot_confusion_matrix' from 'sklearn.metrics' (/Users/mikestragapede/opt/anaconda3/lib/python3.7/site-packages/sklearn/metrics/__init__.py)"
     ]
    }
   ],
   "source": [
    "#################################################################\n",
    "# use confusion_matrix see exactly model gets predictions wrong\n",
    "#################################################################\n",
    "\n",
    "from sklearn.metrics import plot_confusion_matrix\n",
    "import matplotlib.pyplot as plt\n",
    "\n",
    "plot_confusion_matrix(optimal_knn_model, Xtest, ytest,   # model and test data\n",
    "                      display_labels=iris.target_names,  # labels\n",
    "                      cmap=plt.cm.Blues,                 # colors\n",
    "                      normalize=None)                    # turns on/off fractions (within row) "
   ]
  },
  {
   "cell_type": "code",
   "execution_count": null,
   "metadata": {},
   "outputs": [],
   "source": []
  }
 ],
 "metadata": {
  "kernelspec": {
   "display_name": "Python 3",
   "language": "python",
   "name": "python3"
  },
  "language_info": {
   "codemirror_mode": {
    "name": "ipython",
    "version": 3
   },
   "file_extension": ".py",
   "mimetype": "text/x-python",
   "name": "python",
   "nbconvert_exporter": "python",
   "pygments_lexer": "ipython3",
   "version": "3.7.4"
  }
 },
 "nbformat": 4,
 "nbformat_minor": 2
}
